{
  "cells": [
    {
      "cell_type": "markdown",
      "metadata": {
        "id": "view-in-github",
        "colab_type": "text"
      },
      "source": [
        "<a href=\"https://colab.research.google.com/github/Harish21b/sirpi/blob/main/Exe3.ipynb\" target=\"_parent\"><img src=\"https://colab.research.google.com/assets/colab-badge.svg\" alt=\"Open In Colab\"/></a>"
      ]
    },
    {
      "cell_type": "code",
      "source": [
        "from google.colab import drive\n",
        "drive.mount('/contejhliuuhnt/drive')"
      ],
      "metadata": {
        "colab": {
          "base_uri": "https://localhost:8080/"
        },
        "id": "P16WiAuKrX9d",
        "outputId": "a3729a6c-8445-4cff-be1e-d6cf29f789d4"
      },
      "id": "P16WiAuKrX9d",
      "execution_count": null,
      "outputs": [
        {
          "output_type": "stream",
          "name": "stdout",
          "text": [
            "Mounted at /content/drive\n"
          ]
        }
      ]
    },
    {
      "cell_type": "markdown",
      "id": "a5881b3a-611d-46d9-a72a-dd6a3fed3a96",
      "metadata": {
        "id": "a5881b3a-611d-46d9-a72a-dd6a3fed3a96"
      },
      "source": [
        "1. Loading a CSV File & Basic Exploration\n",
        "Given a CSV file named \"Automobile.csv\":\n",
        "Task\n",
        "Write Python code to:\n",
        "Load the CSV file into a Pandas DataFrame.\n",
        "Display the first 30 rows.\n",
        "Print column names.\n",
        "Print No of Rows & Columns\n",
        "Find the Data Types of every column & check if there are any mismatch\n",
        "What are the minimum & maximum price of the car & state fuel type they belong to\n",
        "List all the unique engine types\n",
        "Find the horsepower range\n",
        "What is the average mpg in cities & highway. Which is better?\n",
        "What are the different Automobile makes present & which has maximum count?"
      ]
    },
    {
      "cell_type": "code",
      "execution_count": null,
      "id": "3595e51e-fe4b-42c6-9f2f-fe56303b9d29",
      "metadata": {
        "id": "3595e51e-fe4b-42c6-9f2f-fe56303b9d29",
        "outputId": "ef70c83c-3a63-4993-a3d3-c6bbc793a004",
        "colab": {
          "base_uri": "https://localhost:8080/"
        }
      },
      "outputs": [
        {
          "output_type": "stream",
          "name": "stdout",
          "text": [
            "     symboling  normalized_losses         make fuel_type aspiration  \\\n",
            "0            3                168  alfa-romero       gas        std   \n",
            "1            3                168  alfa-romero       gas        std   \n",
            "2            1                168  alfa-romero       gas        std   \n",
            "3            2                164         audi       gas        std   \n",
            "4            2                164         audi       gas        std   \n",
            "..         ...                ...          ...       ...        ...   \n",
            "196         -1                 95        volvo       gas        std   \n",
            "197         -1                 95        volvo       gas      turbo   \n",
            "198         -1                 95        volvo       gas        std   \n",
            "199         -1                 95        volvo    diesel      turbo   \n",
            "200         -1                 95        volvo       gas      turbo   \n",
            "\n",
            "    number_of_doors   body_style drive_wheels engine_location  wheel_base  \\\n",
            "0               two  convertible          rwd           front        88.6   \n",
            "1               two  convertible          rwd           front        88.6   \n",
            "2               two    hatchback          rwd           front        94.5   \n",
            "3              four        sedan          fwd           front        99.8   \n",
            "4              four        sedan          4wd           front        99.4   \n",
            "..              ...          ...          ...             ...         ...   \n",
            "196            four        sedan          rwd           front       109.1   \n",
            "197            four        sedan          rwd           front       109.1   \n",
            "198            four        sedan          rwd           front       109.1   \n",
            "199            four        sedan          rwd           front       109.1   \n",
            "200            four        sedan          rwd           front       109.1   \n",
            "\n",
            "     ...  engine_size  fuel_system  bore  stroke compression_ratio horsepower  \\\n",
            "0    ...          130         mpfi  3.47    2.68               9.0        111   \n",
            "1    ...          130         mpfi  3.47    2.68               9.0        111   \n",
            "2    ...          152         mpfi  2.68    3.47               9.0        154   \n",
            "3    ...          109         mpfi  3.19    3.40              10.0        102   \n",
            "4    ...          136         mpfi  3.19    3.40               8.0        115   \n",
            "..   ...          ...          ...   ...     ...               ...        ...   \n",
            "196  ...          141         mpfi  3.78    3.15               9.5        114   \n",
            "197  ...          141         mpfi  3.78    3.15               8.7        160   \n",
            "198  ...          173         mpfi  3.58    2.87               8.8        134   \n",
            "199  ...          145          idi  3.01    3.40              23.0        106   \n",
            "200  ...          141         mpfi  3.78    3.15               9.5        114   \n",
            "\n",
            "     peak_rpm city_mpg  highway_mpg  price  \n",
            "0        5000       21           27  13495  \n",
            "1        5000       21           27  16500  \n",
            "2        5000       19           26  16500  \n",
            "3        5500       24           30  13950  \n",
            "4        5500       18           22  17450  \n",
            "..        ...      ...          ...    ...  \n",
            "196      5400       23           28  16845  \n",
            "197      5300       19           25  19045  \n",
            "198      5500       18           23  21485  \n",
            "199      4800       26           27  22470  \n",
            "200      5400       19           25  22625  \n",
            "\n",
            "[201 rows x 26 columns]\n"
          ]
        }
      ],
      "source": [
        "import pandas as pd\n",
        "df=pd.read_csv('/content/drive/MyDrive/Data analytics /Automobile.csv')\n",
        "print(df)"
      ]
    },
    {
      "cell_type": "code",
      "source": [
        "df.head()"
      ],
      "metadata": {
        "colab": {
          "base_uri": "https://localhost:8080/",
          "height": 307
        },
        "id": "LitKYvL9r5BR",
        "outputId": "168f2a0a-1311-42e5-a353-b619459cc835"
      },
      "id": "LitKYvL9r5BR",
      "execution_count": null,
      "outputs": [
        {
          "output_type": "execute_result",
          "data": {
            "text/plain": [
              "   symboling  normalized_losses         make fuel_type aspiration  \\\n",
              "0          3                168  alfa-romero       gas        std   \n",
              "1          3                168  alfa-romero       gas        std   \n",
              "2          1                168  alfa-romero       gas        std   \n",
              "3          2                164         audi       gas        std   \n",
              "4          2                164         audi       gas        std   \n",
              "\n",
              "  number_of_doors   body_style drive_wheels engine_location  wheel_base  ...  \\\n",
              "0             two  convertible          rwd           front        88.6  ...   \n",
              "1             two  convertible          rwd           front        88.6  ...   \n",
              "2             two    hatchback          rwd           front        94.5  ...   \n",
              "3            four        sedan          fwd           front        99.8  ...   \n",
              "4            four        sedan          4wd           front        99.4  ...   \n",
              "\n",
              "   engine_size  fuel_system  bore  stroke compression_ratio horsepower  \\\n",
              "0          130         mpfi  3.47    2.68               9.0        111   \n",
              "1          130         mpfi  3.47    2.68               9.0        111   \n",
              "2          152         mpfi  2.68    3.47               9.0        154   \n",
              "3          109         mpfi  3.19    3.40              10.0        102   \n",
              "4          136         mpfi  3.19    3.40               8.0        115   \n",
              "\n",
              "   peak_rpm city_mpg  highway_mpg  price  \n",
              "0      5000       21           27  13495  \n",
              "1      5000       21           27  16500  \n",
              "2      5000       19           26  16500  \n",
              "3      5500       24           30  13950  \n",
              "4      5500       18           22  17450  \n",
              "\n",
              "[5 rows x 26 columns]"
            ],
            "text/html": [
              "\n",
              "  <div id=\"df-c210c4c6-c177-4b01-9cdf-8d118fb390ed\" class=\"colab-df-container\">\n",
              "    <div>\n",
              "<style scoped>\n",
              "    .dataframe tbody tr th:only-of-type {\n",
              "        vertical-align: middle;\n",
              "    }\n",
              "\n",
              "    .dataframe tbody tr th {\n",
              "        vertical-align: top;\n",
              "    }\n",
              "\n",
              "    .dataframe thead th {\n",
              "        text-align: right;\n",
              "    }\n",
              "</style>\n",
              "<table border=\"1\" class=\"dataframe\">\n",
              "  <thead>\n",
              "    <tr style=\"text-align: right;\">\n",
              "      <th></th>\n",
              "      <th>symboling</th>\n",
              "      <th>normalized_losses</th>\n",
              "      <th>make</th>\n",
              "      <th>fuel_type</th>\n",
              "      <th>aspiration</th>\n",
              "      <th>number_of_doors</th>\n",
              "      <th>body_style</th>\n",
              "      <th>drive_wheels</th>\n",
              "      <th>engine_location</th>\n",
              "      <th>wheel_base</th>\n",
              "      <th>...</th>\n",
              "      <th>engine_size</th>\n",
              "      <th>fuel_system</th>\n",
              "      <th>bore</th>\n",
              "      <th>stroke</th>\n",
              "      <th>compression_ratio</th>\n",
              "      <th>horsepower</th>\n",
              "      <th>peak_rpm</th>\n",
              "      <th>city_mpg</th>\n",
              "      <th>highway_mpg</th>\n",
              "      <th>price</th>\n",
              "    </tr>\n",
              "  </thead>\n",
              "  <tbody>\n",
              "    <tr>\n",
              "      <th>0</th>\n",
              "      <td>3</td>\n",
              "      <td>168</td>\n",
              "      <td>alfa-romero</td>\n",
              "      <td>gas</td>\n",
              "      <td>std</td>\n",
              "      <td>two</td>\n",
              "      <td>convertible</td>\n",
              "      <td>rwd</td>\n",
              "      <td>front</td>\n",
              "      <td>88.6</td>\n",
              "      <td>...</td>\n",
              "      <td>130</td>\n",
              "      <td>mpfi</td>\n",
              "      <td>3.47</td>\n",
              "      <td>2.68</td>\n",
              "      <td>9.0</td>\n",
              "      <td>111</td>\n",
              "      <td>5000</td>\n",
              "      <td>21</td>\n",
              "      <td>27</td>\n",
              "      <td>13495</td>\n",
              "    </tr>\n",
              "    <tr>\n",
              "      <th>1</th>\n",
              "      <td>3</td>\n",
              "      <td>168</td>\n",
              "      <td>alfa-romero</td>\n",
              "      <td>gas</td>\n",
              "      <td>std</td>\n",
              "      <td>two</td>\n",
              "      <td>convertible</td>\n",
              "      <td>rwd</td>\n",
              "      <td>front</td>\n",
              "      <td>88.6</td>\n",
              "      <td>...</td>\n",
              "      <td>130</td>\n",
              "      <td>mpfi</td>\n",
              "      <td>3.47</td>\n",
              "      <td>2.68</td>\n",
              "      <td>9.0</td>\n",
              "      <td>111</td>\n",
              "      <td>5000</td>\n",
              "      <td>21</td>\n",
              "      <td>27</td>\n",
              "      <td>16500</td>\n",
              "    </tr>\n",
              "    <tr>\n",
              "      <th>2</th>\n",
              "      <td>1</td>\n",
              "      <td>168</td>\n",
              "      <td>alfa-romero</td>\n",
              "      <td>gas</td>\n",
              "      <td>std</td>\n",
              "      <td>two</td>\n",
              "      <td>hatchback</td>\n",
              "      <td>rwd</td>\n",
              "      <td>front</td>\n",
              "      <td>94.5</td>\n",
              "      <td>...</td>\n",
              "      <td>152</td>\n",
              "      <td>mpfi</td>\n",
              "      <td>2.68</td>\n",
              "      <td>3.47</td>\n",
              "      <td>9.0</td>\n",
              "      <td>154</td>\n",
              "      <td>5000</td>\n",
              "      <td>19</td>\n",
              "      <td>26</td>\n",
              "      <td>16500</td>\n",
              "    </tr>\n",
              "    <tr>\n",
              "      <th>3</th>\n",
              "      <td>2</td>\n",
              "      <td>164</td>\n",
              "      <td>audi</td>\n",
              "      <td>gas</td>\n",
              "      <td>std</td>\n",
              "      <td>four</td>\n",
              "      <td>sedan</td>\n",
              "      <td>fwd</td>\n",
              "      <td>front</td>\n",
              "      <td>99.8</td>\n",
              "      <td>...</td>\n",
              "      <td>109</td>\n",
              "      <td>mpfi</td>\n",
              "      <td>3.19</td>\n",
              "      <td>3.40</td>\n",
              "      <td>10.0</td>\n",
              "      <td>102</td>\n",
              "      <td>5500</td>\n",
              "      <td>24</td>\n",
              "      <td>30</td>\n",
              "      <td>13950</td>\n",
              "    </tr>\n",
              "    <tr>\n",
              "      <th>4</th>\n",
              "      <td>2</td>\n",
              "      <td>164</td>\n",
              "      <td>audi</td>\n",
              "      <td>gas</td>\n",
              "      <td>std</td>\n",
              "      <td>four</td>\n",
              "      <td>sedan</td>\n",
              "      <td>4wd</td>\n",
              "      <td>front</td>\n",
              "      <td>99.4</td>\n",
              "      <td>...</td>\n",
              "      <td>136</td>\n",
              "      <td>mpfi</td>\n",
              "      <td>3.19</td>\n",
              "      <td>3.40</td>\n",
              "      <td>8.0</td>\n",
              "      <td>115</td>\n",
              "      <td>5500</td>\n",
              "      <td>18</td>\n",
              "      <td>22</td>\n",
              "      <td>17450</td>\n",
              "    </tr>\n",
              "  </tbody>\n",
              "</table>\n",
              "<p>5 rows × 26 columns</p>\n",
              "</div>\n",
              "    <div class=\"colab-df-buttons\">\n",
              "\n",
              "  <div class=\"colab-df-container\">\n",
              "    <button class=\"colab-df-convert\" onclick=\"convertToInteractive('df-c210c4c6-c177-4b01-9cdf-8d118fb390ed')\"\n",
              "            title=\"Convert this dataframe to an interactive table.\"\n",
              "            style=\"display:none;\">\n",
              "\n",
              "  <svg xmlns=\"http://www.w3.org/2000/svg\" height=\"24px\" viewBox=\"0 -960 960 960\">\n",
              "    <path d=\"M120-120v-720h720v720H120Zm60-500h600v-160H180v160Zm220 220h160v-160H400v160Zm0 220h160v-160H400v160ZM180-400h160v-160H180v160Zm440 0h160v-160H620v160ZM180-180h160v-160H180v160Zm440 0h160v-160H620v160Z\"/>\n",
              "  </svg>\n",
              "    </button>\n",
              "\n",
              "  <style>\n",
              "    .colab-df-container {\n",
              "      display:flex;\n",
              "      gap: 12px;\n",
              "    }\n",
              "\n",
              "    .colab-df-convert {\n",
              "      background-color: #E8F0FE;\n",
              "      border: none;\n",
              "      border-radius: 50%;\n",
              "      cursor: pointer;\n",
              "      display: none;\n",
              "      fill: #1967D2;\n",
              "      height: 32px;\n",
              "      padding: 0 0 0 0;\n",
              "      width: 32px;\n",
              "    }\n",
              "\n",
              "    .colab-df-convert:hover {\n",
              "      background-color: #E2EBFA;\n",
              "      box-shadow: 0px 1px 2px rgba(60, 64, 67, 0.3), 0px 1px 3px 1px rgba(60, 64, 67, 0.15);\n",
              "      fill: #174EA6;\n",
              "    }\n",
              "\n",
              "    .colab-df-buttons div {\n",
              "      margin-bottom: 4px;\n",
              "    }\n",
              "\n",
              "    [theme=dark] .colab-df-convert {\n",
              "      background-color: #3B4455;\n",
              "      fill: #D2E3FC;\n",
              "    }\n",
              "\n",
              "    [theme=dark] .colab-df-convert:hover {\n",
              "      background-color: #434B5C;\n",
              "      box-shadow: 0px 1px 3px 1px rgba(0, 0, 0, 0.15);\n",
              "      filter: drop-shadow(0px 1px 2px rgba(0, 0, 0, 0.3));\n",
              "      fill: #FFFFFF;\n",
              "    }\n",
              "  </style>\n",
              "\n",
              "    <script>\n",
              "      const buttonEl =\n",
              "        document.querySelector('#df-c210c4c6-c177-4b01-9cdf-8d118fb390ed button.colab-df-convert');\n",
              "      buttonEl.style.display =\n",
              "        google.colab.kernel.accessAllowed ? 'block' : 'none';\n",
              "\n",
              "      async function convertToInteractive(key) {\n",
              "        const element = document.querySelector('#df-c210c4c6-c177-4b01-9cdf-8d118fb390ed');\n",
              "        const dataTable =\n",
              "          await google.colab.kernel.invokeFunction('convertToInteractive',\n",
              "                                                    [key], {});\n",
              "        if (!dataTable) return;\n",
              "\n",
              "        const docLinkHtml = 'Like what you see? Visit the ' +\n",
              "          '<a target=\"_blank\" href=https://colab.research.google.com/notebooks/data_table.ipynb>data table notebook</a>'\n",
              "          + ' to learn more about interactive tables.';\n",
              "        element.innerHTML = '';\n",
              "        dataTable['output_type'] = 'display_data';\n",
              "        await google.colab.output.renderOutput(dataTable, element);\n",
              "        const docLink = document.createElement('div');\n",
              "        docLink.innerHTML = docLinkHtml;\n",
              "        element.appendChild(docLink);\n",
              "      }\n",
              "    </script>\n",
              "  </div>\n",
              "\n",
              "\n",
              "<div id=\"df-dccbdf6c-9b21-42aa-af1d-fc5a016202f9\">\n",
              "  <button class=\"colab-df-quickchart\" onclick=\"quickchart('df-dccbdf6c-9b21-42aa-af1d-fc5a016202f9')\"\n",
              "            title=\"Suggest charts\"\n",
              "            style=\"display:none;\">\n",
              "\n",
              "<svg xmlns=\"http://www.w3.org/2000/svg\" height=\"24px\"viewBox=\"0 0 24 24\"\n",
              "     width=\"24px\">\n",
              "    <g>\n",
              "        <path d=\"M19 3H5c-1.1 0-2 .9-2 2v14c0 1.1.9 2 2 2h14c1.1 0 2-.9 2-2V5c0-1.1-.9-2-2-2zM9 17H7v-7h2v7zm4 0h-2V7h2v10zm4 0h-2v-4h2v4z\"/>\n",
              "    </g>\n",
              "</svg>\n",
              "  </button>\n",
              "\n",
              "<style>\n",
              "  .colab-df-quickchart {\n",
              "      --bg-color: #E8F0FE;\n",
              "      --fill-color: #1967D2;\n",
              "      --hover-bg-color: #E2EBFA;\n",
              "      --hover-fill-color: #174EA6;\n",
              "      --disabled-fill-color: #AAA;\n",
              "      --disabled-bg-color: #DDD;\n",
              "  }\n",
              "\n",
              "  [theme=dark] .colab-df-quickchart {\n",
              "      --bg-color: #3B4455;\n",
              "      --fill-color: #D2E3FC;\n",
              "      --hover-bg-color: #434B5C;\n",
              "      --hover-fill-color: #FFFFFF;\n",
              "      --disabled-bg-color: #3B4455;\n",
              "      --disabled-fill-color: #666;\n",
              "  }\n",
              "\n",
              "  .colab-df-quickchart {\n",
              "    background-color: var(--bg-color);\n",
              "    border: none;\n",
              "    border-radius: 50%;\n",
              "    cursor: pointer;\n",
              "    display: none;\n",
              "    fill: var(--fill-color);\n",
              "    height: 32px;\n",
              "    padding: 0;\n",
              "    width: 32px;\n",
              "  }\n",
              "\n",
              "  .colab-df-quickchart:hover {\n",
              "    background-color: var(--hover-bg-color);\n",
              "    box-shadow: 0 1px 2px rgba(60, 64, 67, 0.3), 0 1px 3px 1px rgba(60, 64, 67, 0.15);\n",
              "    fill: var(--button-hover-fill-color);\n",
              "  }\n",
              "\n",
              "  .colab-df-quickchart-complete:disabled,\n",
              "  .colab-df-quickchart-complete:disabled:hover {\n",
              "    background-color: var(--disabled-bg-color);\n",
              "    fill: var(--disabled-fill-color);\n",
              "    box-shadow: none;\n",
              "  }\n",
              "\n",
              "  .colab-df-spinner {\n",
              "    border: 2px solid var(--fill-color);\n",
              "    border-color: transparent;\n",
              "    border-bottom-color: var(--fill-color);\n",
              "    animation:\n",
              "      spin 1s steps(1) infinite;\n",
              "  }\n",
              "\n",
              "  @keyframes spin {\n",
              "    0% {\n",
              "      border-color: transparent;\n",
              "      border-bottom-color: var(--fill-color);\n",
              "      border-left-color: var(--fill-color);\n",
              "    }\n",
              "    20% {\n",
              "      border-color: transparent;\n",
              "      border-left-color: var(--fill-color);\n",
              "      border-top-color: var(--fill-color);\n",
              "    }\n",
              "    30% {\n",
              "      border-color: transparent;\n",
              "      border-left-color: var(--fill-color);\n",
              "      border-top-color: var(--fill-color);\n",
              "      border-right-color: var(--fill-color);\n",
              "    }\n",
              "    40% {\n",
              "      border-color: transparent;\n",
              "      border-right-color: var(--fill-color);\n",
              "      border-top-color: var(--fill-color);\n",
              "    }\n",
              "    60% {\n",
              "      border-color: transparent;\n",
              "      border-right-color: var(--fill-color);\n",
              "    }\n",
              "    80% {\n",
              "      border-color: transparent;\n",
              "      border-right-color: var(--fill-color);\n",
              "      border-bottom-color: var(--fill-color);\n",
              "    }\n",
              "    90% {\n",
              "      border-color: transparent;\n",
              "      border-bottom-color: var(--fill-color);\n",
              "    }\n",
              "  }\n",
              "</style>\n",
              "\n",
              "  <script>\n",
              "    async function quickchart(key) {\n",
              "      const quickchartButtonEl =\n",
              "        document.querySelector('#' + key + ' button');\n",
              "      quickchartButtonEl.disabled = true;  // To prevent multiple clicks.\n",
              "      quickchartButtonEl.classList.add('colab-df-spinner');\n",
              "      try {\n",
              "        const charts = await google.colab.kernel.invokeFunction(\n",
              "            'suggestCharts', [key], {});\n",
              "      } catch (error) {\n",
              "        console.error('Error during call to suggestCharts:', error);\n",
              "      }\n",
              "      quickchartButtonEl.classList.remove('colab-df-spinner');\n",
              "      quickchartButtonEl.classList.add('colab-df-quickchart-complete');\n",
              "    }\n",
              "    (() => {\n",
              "      let quickchartButtonEl =\n",
              "        document.querySelector('#df-dccbdf6c-9b21-42aa-af1d-fc5a016202f9 button');\n",
              "      quickchartButtonEl.style.display =\n",
              "        google.colab.kernel.accessAllowed ? 'block' : 'none';\n",
              "    })();\n",
              "  </script>\n",
              "</div>\n",
              "\n",
              "    </div>\n",
              "  </div>\n"
            ],
            "application/vnd.google.colaboratory.intrinsic+json": {
              "type": "dataframe",
              "variable_name": "df"
            }
          },
          "metadata": {},
          "execution_count": 8
        }
      ]
    },
    {
      "cell_type": "code",
      "execution_count": null,
      "id": "f1b7db28-c13e-40dd-b873-15e81c2bded3",
      "metadata": {
        "id": "f1b7db28-c13e-40dd-b873-15e81c2bded3",
        "outputId": "1e9bec83-0215-40b3-ab54-abafea6006a9",
        "colab": {
          "base_uri": "https://localhost:8080/"
        }
      },
      "outputs": [
        {
          "output_type": "stream",
          "name": "stdout",
          "text": [
            "    symboling  normalized_losses         make fuel_type aspiration  \\\n",
            "0           3                168  alfa-romero       gas        std   \n",
            "1           3                168  alfa-romero       gas        std   \n",
            "2           1                168  alfa-romero       gas        std   \n",
            "3           2                164         audi       gas        std   \n",
            "4           2                164         audi       gas        std   \n",
            "5           2                161         audi       gas        std   \n",
            "6           1                158         audi       gas        std   \n",
            "7           1                168         audi       gas        std   \n",
            "8           1                158         audi       gas      turbo   \n",
            "9           2                192          bmw       gas        std   \n",
            "10          0                192          bmw       gas        std   \n",
            "11          0                188          bmw       gas        std   \n",
            "12          0                188          bmw       gas        std   \n",
            "13          1                149          bmw       gas        std   \n",
            "14          0                149          bmw       gas        std   \n",
            "15          0                149          bmw       gas        std   \n",
            "16          0                149          bmw       gas        std   \n",
            "17          2                121    chevrolet       gas        std   \n",
            "18          1                 98    chevrolet       gas        std   \n",
            "19          0                 81    chevrolet       gas        std   \n",
            "20          1                118        dodge       gas        std   \n",
            "21          1                118        dodge       gas        std   \n",
            "22          1                118        dodge       gas      turbo   \n",
            "23          1                148        dodge       gas        std   \n",
            "24          1                148        dodge       gas        std   \n",
            "25          1                148        dodge       gas        std   \n",
            "26          1                148        dodge       gas      turbo   \n",
            "27         -1                110        dodge       gas        std   \n",
            "28          3                145        dodge       gas      turbo   \n",
            "29          2                137        honda       gas        std   \n",
            "\n",
            "   number_of_doors   body_style drive_wheels engine_location  wheel_base  ...  \\\n",
            "0              two  convertible          rwd           front        88.6  ...   \n",
            "1              two  convertible          rwd           front        88.6  ...   \n",
            "2              two    hatchback          rwd           front        94.5  ...   \n",
            "3             four        sedan          fwd           front        99.8  ...   \n",
            "4             four        sedan          4wd           front        99.4  ...   \n",
            "5              two        sedan          fwd           front        99.8  ...   \n",
            "6             four        sedan          fwd           front       105.8  ...   \n",
            "7             four        wagon          fwd           front       105.8  ...   \n",
            "8             four        sedan          fwd           front       105.8  ...   \n",
            "9              two        sedan          rwd           front       101.2  ...   \n",
            "10            four        sedan          rwd           front       101.2  ...   \n",
            "11             two        sedan          rwd           front       101.2  ...   \n",
            "12            four        sedan          rwd           front       101.2  ...   \n",
            "13            four        sedan          rwd           front       103.5  ...   \n",
            "14            four        sedan          rwd           front       103.5  ...   \n",
            "15             two        sedan          rwd           front       103.5  ...   \n",
            "16            four        sedan          rwd           front       110.0  ...   \n",
            "17             two    hatchback          fwd           front        88.4  ...   \n",
            "18             two    hatchback          fwd           front        94.5  ...   \n",
            "19            four        sedan          fwd           front        94.5  ...   \n",
            "20             two    hatchback          fwd           front        93.7  ...   \n",
            "21             two    hatchback          fwd           front        93.7  ...   \n",
            "22             two    hatchback          fwd           front        93.7  ...   \n",
            "23            four    hatchback          fwd           front        93.7  ...   \n",
            "24            four        sedan          fwd           front        93.7  ...   \n",
            "25            four        sedan          fwd           front        93.7  ...   \n",
            "26             two        sedan          fwd           front        93.7  ...   \n",
            "27            four        wagon          fwd           front       103.3  ...   \n",
            "28             two    hatchback          fwd           front        95.9  ...   \n",
            "29             two    hatchback          fwd           front        86.6  ...   \n",
            "\n",
            "    engine_size  fuel_system  bore  stroke compression_ratio horsepower  \\\n",
            "0           130         mpfi  3.47    2.68              9.00        111   \n",
            "1           130         mpfi  3.47    2.68              9.00        111   \n",
            "2           152         mpfi  2.68    3.47              9.00        154   \n",
            "3           109         mpfi  3.19    3.40             10.00        102   \n",
            "4           136         mpfi  3.19    3.40              8.00        115   \n",
            "5           136         mpfi  3.19    3.40              8.50        110   \n",
            "6           136         mpfi  3.19    3.40              8.50        110   \n",
            "7           136         mpfi  3.19    3.40              8.50        110   \n",
            "8           131         mpfi  3.13    3.40              8.30        140   \n",
            "9           108         mpfi  3.50    2.80              8.80        101   \n",
            "10          108         mpfi  3.50    2.80              8.80        101   \n",
            "11          164         mpfi  3.31    3.19              9.00        121   \n",
            "12          164         mpfi  3.31    3.19              9.00        121   \n",
            "13          164         mpfi  3.31    3.19              9.00        121   \n",
            "14          209         mpfi  3.62    3.39              8.00        182   \n",
            "15          209         mpfi  3.62    3.39              8.00        182   \n",
            "16          209         mpfi  3.62    3.39              8.00        182   \n",
            "17           61         2bbl  2.91    3.03              9.50         48   \n",
            "18           90         2bbl  3.03    3.11              9.60         70   \n",
            "19           90         2bbl  3.03    3.11              9.60         70   \n",
            "20           90         2bbl  2.97    3.23              9.41         68   \n",
            "21           90         2bbl  2.97    3.23              9.40         68   \n",
            "22           98         mpfi  3.03    3.39              7.60        102   \n",
            "23           90         2bbl  2.97    3.23              9.40         68   \n",
            "24           90         2bbl  2.97    3.23              9.40         68   \n",
            "25           90         2bbl  2.97    3.23              9.40         68   \n",
            "26           98         mpfi  3.03    3.39              7.60        102   \n",
            "27          122         2bbl  3.34    3.46              8.50         88   \n",
            "28          156          mfi  3.60    3.90              7.00        145   \n",
            "29           92         1bbl  2.91    3.41              9.60         58   \n",
            "\n",
            "    peak_rpm city_mpg  highway_mpg  price  \n",
            "0       5000       21           27  13495  \n",
            "1       5000       21           27  16500  \n",
            "2       5000       19           26  16500  \n",
            "3       5500       24           30  13950  \n",
            "4       5500       18           22  17450  \n",
            "5       5500       19           25  15250  \n",
            "6       5500       19           25  17710  \n",
            "7       5500       19           25  18920  \n",
            "8       5500       17           20  23875  \n",
            "9       5800       23           29  16430  \n",
            "10      5800       23           29  16925  \n",
            "11      4250       21           28  20970  \n",
            "12      4250       21           28  21105  \n",
            "13      4250       20           25  24565  \n",
            "14      5400       16           22  30760  \n",
            "15      5400       16           22  41315  \n",
            "16      5400       15           20  36880  \n",
            "17      5100       47           53   5151  \n",
            "18      5400       38           43   6295  \n",
            "19      5400       38           43   6575  \n",
            "20      5500       37           41   5572  \n",
            "21      5500       31           38   6377  \n",
            "22      5500       24           30   7957  \n",
            "23      5500       31           38   6229  \n",
            "24      5500       31           38   6692  \n",
            "25      5500       31           38   7609  \n",
            "26      5500       24           30   8558  \n",
            "27      5000       24           30   8921  \n",
            "28      5000       19           24  12964  \n",
            "29      4800       49           54   6479  \n",
            "\n",
            "[30 rows x 26 columns]\n"
          ]
        }
      ],
      "source": [
        "print(df.head(30))"
      ]
    },
    {
      "cell_type": "code",
      "execution_count": null,
      "id": "324e53b2-9702-4444-91ec-e4db8715c800",
      "metadata": {
        "id": "324e53b2-9702-4444-91ec-e4db8715c800",
        "outputId": "d0a55899-bfb1-4dff-a9c7-88c8fd126382",
        "colab": {
          "base_uri": "https://localhost:8080/"
        }
      },
      "outputs": [
        {
          "output_type": "stream",
          "name": "stdout",
          "text": [
            "Index(['symboling', 'normalized_losses', 'make', 'fuel_type', 'aspiration',\n",
            "       'number_of_doors', 'body_style', 'drive_wheels', 'engine_location',\n",
            "       'wheel_base', 'length', 'width', 'height', 'curb_weight', 'engine_type',\n",
            "       'number_of_cylinders', 'engine_size', 'fuel_system', 'bore', 'stroke',\n",
            "       'compression_ratio', 'horsepower', 'peak_rpm', 'city_mpg',\n",
            "       'highway_mpg', 'price'],\n",
            "      dtype='object')\n"
          ]
        }
      ],
      "source": [
        "print(df.columns)"
      ]
    },
    {
      "cell_type": "code",
      "execution_count": null,
      "id": "9525f198-9525-49eb-93bd-f77cd88c4d82",
      "metadata": {
        "id": "9525f198-9525-49eb-93bd-f77cd88c4d82",
        "outputId": "a16ed6f5-297b-4f54-a05b-9c4d6f06be13",
        "colab": {
          "base_uri": "https://localhost:8080/"
        }
      },
      "outputs": [
        {
          "output_type": "stream",
          "name": "stdout",
          "text": [
            "(201, 26)\n"
          ]
        }
      ],
      "source": [
        "print(df.shape)"
      ]
    },
    {
      "cell_type": "code",
      "execution_count": null,
      "id": "f26cdb7b-b9da-483c-a5c3-6d432292f083",
      "metadata": {
        "id": "f26cdb7b-b9da-483c-a5c3-6d432292f083",
        "outputId": "d30a52f0-fdfa-46a2-933e-a361275c4709",
        "colab": {
          "base_uri": "https://localhost:8080/"
        }
      },
      "outputs": [
        {
          "output_type": "stream",
          "name": "stdout",
          "text": [
            "<class 'pandas.core.frame.DataFrame'>\n",
            "RangeIndex: 201 entries, 0 to 200\n",
            "Data columns (total 26 columns):\n",
            " #   Column               Non-Null Count  Dtype  \n",
            "---  ------               --------------  -----  \n",
            " 0   symboling            201 non-null    int64  \n",
            " 1   normalized_losses    201 non-null    int64  \n",
            " 2   make                 201 non-null    object \n",
            " 3   fuel_type            201 non-null    object \n",
            " 4   aspiration           201 non-null    object \n",
            " 5   number_of_doors      201 non-null    object \n",
            " 6   body_style           201 non-null    object \n",
            " 7   drive_wheels         201 non-null    object \n",
            " 8   engine_location      201 non-null    object \n",
            " 9   wheel_base           201 non-null    float64\n",
            " 10  length               201 non-null    float64\n",
            " 11  width                201 non-null    float64\n",
            " 12  height               201 non-null    float64\n",
            " 13  curb_weight          201 non-null    int64  \n",
            " 14  engine_type          201 non-null    object \n",
            " 15  number_of_cylinders  201 non-null    object \n",
            " 16  engine_size          201 non-null    int64  \n",
            " 17  fuel_system          201 non-null    object \n",
            " 18  bore                 201 non-null    float64\n",
            " 19  stroke               201 non-null    float64\n",
            " 20  compression_ratio    201 non-null    float64\n",
            " 21  horsepower           201 non-null    int64  \n",
            " 22  peak_rpm             201 non-null    int64  \n",
            " 23  city_mpg             201 non-null    int64  \n",
            " 24  highway_mpg          201 non-null    int64  \n",
            " 25  price                201 non-null    int64  \n",
            "dtypes: float64(7), int64(9), object(10)\n",
            "memory usage: 41.0+ KB\n",
            "None\n"
          ]
        }
      ],
      "source": [
        "print(df.info())"
      ]
    },
    {
      "cell_type": "markdown",
      "id": "fb5b3078-8cf6-45ed-98de-4acfb02f03e5",
      "metadata": {
        "id": "fb5b3078-8cf6-45ed-98de-4acfb02f03e5"
      },
      "source": [
        "What are the minimum & maximum price of the car & state fuel type they belong to"
      ]
    },
    {
      "cell_type": "code",
      "execution_count": null,
      "id": "4cb8f419-599c-42d3-8562-1b3d67c03783",
      "metadata": {
        "id": "4cb8f419-599c-42d3-8562-1b3d67c03783",
        "outputId": "0e36ba7f-a0d1-4a20-f217-0e537728579e",
        "colab": {
          "base_uri": "https://localhost:8080/",
          "height": 80
        }
      },
      "outputs": [
        {
          "output_type": "execute_result",
          "data": {
            "text/plain": [
              "     price fuel_type\n",
              "134   5118       gas"
            ],
            "text/html": [
              "\n",
              "  <div id=\"df-0a48a3c4-9b43-46c3-83d0-77f67f3ef40e\" class=\"colab-df-container\">\n",
              "    <div>\n",
              "<style scoped>\n",
              "    .dataframe tbody tr th:only-of-type {\n",
              "        vertical-align: middle;\n",
              "    }\n",
              "\n",
              "    .dataframe tbody tr th {\n",
              "        vertical-align: top;\n",
              "    }\n",
              "\n",
              "    .dataframe thead th {\n",
              "        text-align: right;\n",
              "    }\n",
              "</style>\n",
              "<table border=\"1\" class=\"dataframe\">\n",
              "  <thead>\n",
              "    <tr style=\"text-align: right;\">\n",
              "      <th></th>\n",
              "      <th>price</th>\n",
              "      <th>fuel_type</th>\n",
              "    </tr>\n",
              "  </thead>\n",
              "  <tbody>\n",
              "    <tr>\n",
              "      <th>134</th>\n",
              "      <td>5118</td>\n",
              "      <td>gas</td>\n",
              "    </tr>\n",
              "  </tbody>\n",
              "</table>\n",
              "</div>\n",
              "    <div class=\"colab-df-buttons\">\n",
              "\n",
              "  <div class=\"colab-df-container\">\n",
              "    <button class=\"colab-df-convert\" onclick=\"convertToInteractive('df-0a48a3c4-9b43-46c3-83d0-77f67f3ef40e')\"\n",
              "            title=\"Convert this dataframe to an interactive table.\"\n",
              "            style=\"display:none;\">\n",
              "\n",
              "  <svg xmlns=\"http://www.w3.org/2000/svg\" height=\"24px\" viewBox=\"0 -960 960 960\">\n",
              "    <path d=\"M120-120v-720h720v720H120Zm60-500h600v-160H180v160Zm220 220h160v-160H400v160Zm0 220h160v-160H400v160ZM180-400h160v-160H180v160Zm440 0h160v-160H620v160ZM180-180h160v-160H180v160Zm440 0h160v-160H620v160Z\"/>\n",
              "  </svg>\n",
              "    </button>\n",
              "\n",
              "  <style>\n",
              "    .colab-df-container {\n",
              "      display:flex;\n",
              "      gap: 12px;\n",
              "    }\n",
              "\n",
              "    .colab-df-convert {\n",
              "      background-color: #E8F0FE;\n",
              "      border: none;\n",
              "      border-radius: 50%;\n",
              "      cursor: pointer;\n",
              "      display: none;\n",
              "      fill: #1967D2;\n",
              "      height: 32px;\n",
              "      padding: 0 0 0 0;\n",
              "      width: 32px;\n",
              "    }\n",
              "\n",
              "    .colab-df-convert:hover {\n",
              "      background-color: #E2EBFA;\n",
              "      box-shadow: 0px 1px 2px rgba(60, 64, 67, 0.3), 0px 1px 3px 1px rgba(60, 64, 67, 0.15);\n",
              "      fill: #174EA6;\n",
              "    }\n",
              "\n",
              "    .colab-df-buttons div {\n",
              "      margin-bottom: 4px;\n",
              "    }\n",
              "\n",
              "    [theme=dark] .colab-df-convert {\n",
              "      background-color: #3B4455;\n",
              "      fill: #D2E3FC;\n",
              "    }\n",
              "\n",
              "    [theme=dark] .colab-df-convert:hover {\n",
              "      background-color: #434B5C;\n",
              "      box-shadow: 0px 1px 3px 1px rgba(0, 0, 0, 0.15);\n",
              "      filter: drop-shadow(0px 1px 2px rgba(0, 0, 0, 0.3));\n",
              "      fill: #FFFFFF;\n",
              "    }\n",
              "  </style>\n",
              "\n",
              "    <script>\n",
              "      const buttonEl =\n",
              "        document.querySelector('#df-0a48a3c4-9b43-46c3-83d0-77f67f3ef40e button.colab-df-convert');\n",
              "      buttonEl.style.display =\n",
              "        google.colab.kernel.accessAllowed ? 'block' : 'none';\n",
              "\n",
              "      async function convertToInteractive(key) {\n",
              "        const element = document.querySelector('#df-0a48a3c4-9b43-46c3-83d0-77f67f3ef40e');\n",
              "        const dataTable =\n",
              "          await google.colab.kernel.invokeFunction('convertToInteractive',\n",
              "                                                    [key], {});\n",
              "        if (!dataTable) return;\n",
              "\n",
              "        const docLinkHtml = 'Like what you see? Visit the ' +\n",
              "          '<a target=\"_blank\" href=https://colab.research.google.com/notebooks/data_table.ipynb>data table notebook</a>'\n",
              "          + ' to learn more about interactive tables.';\n",
              "        element.innerHTML = '';\n",
              "        dataTable['output_type'] = 'display_data';\n",
              "        await google.colab.output.renderOutput(dataTable, element);\n",
              "        const docLink = document.createElement('div');\n",
              "        docLink.innerHTML = docLinkHtml;\n",
              "        element.appendChild(docLink);\n",
              "      }\n",
              "    </script>\n",
              "  </div>\n",
              "\n",
              "\n",
              "    </div>\n",
              "  </div>\n"
            ],
            "application/vnd.google.colaboratory.intrinsic+json": {
              "type": "dataframe",
              "summary": "{\n  \"name\": \"df\",\n  \"rows\": 1,\n  \"fields\": [\n    {\n      \"column\": \"price\",\n      \"properties\": {\n        \"dtype\": \"number\",\n        \"std\": null,\n        \"min\": 5118,\n        \"max\": 5118,\n        \"num_unique_values\": 1,\n        \"samples\": [\n          5118\n        ],\n        \"semantic_type\": \"\",\n        \"description\": \"\"\n      }\n    },\n    {\n      \"column\": \"fuel_type\",\n      \"properties\": {\n        \"dtype\": \"string\",\n        \"num_unique_values\": 1,\n        \"samples\": [\n          \"gas\"\n        ],\n        \"semantic_type\": \"\",\n        \"description\": \"\"\n      }\n    }\n  ]\n}"
            }
          },
          "metadata": {},
          "execution_count": 12
        }
      ],
      "source": [
        "min=df['price'].min()\n",
        "df.loc[df['price']==min,(\"price\",\"fuel_type\")]"
      ]
    },
    {
      "cell_type": "code",
      "execution_count": null,
      "id": "9f3d7e18-da68-4eb1-8d74-b53bcf3b7f1c",
      "metadata": {
        "id": "9f3d7e18-da68-4eb1-8d74-b53bcf3b7f1c",
        "outputId": "99b9973a-f157-434e-868b-a5c97f13a8ae",
        "colab": {
          "base_uri": "https://localhost:8080/",
          "height": 80
        }
      },
      "outputs": [
        {
          "output_type": "execute_result",
          "data": {
            "text/plain": [
              "    price fuel_type\n",
              "71  45400       gas"
            ],
            "text/html": [
              "\n",
              "  <div id=\"df-0c120bdf-3115-4b7f-96ac-62ab86ee524d\" class=\"colab-df-container\">\n",
              "    <div>\n",
              "<style scoped>\n",
              "    .dataframe tbody tr th:only-of-type {\n",
              "        vertical-align: middle;\n",
              "    }\n",
              "\n",
              "    .dataframe tbody tr th {\n",
              "        vertical-align: top;\n",
              "    }\n",
              "\n",
              "    .dataframe thead th {\n",
              "        text-align: right;\n",
              "    }\n",
              "</style>\n",
              "<table border=\"1\" class=\"dataframe\">\n",
              "  <thead>\n",
              "    <tr style=\"text-align: right;\">\n",
              "      <th></th>\n",
              "      <th>price</th>\n",
              "      <th>fuel_type</th>\n",
              "    </tr>\n",
              "  </thead>\n",
              "  <tbody>\n",
              "    <tr>\n",
              "      <th>71</th>\n",
              "      <td>45400</td>\n",
              "      <td>gas</td>\n",
              "    </tr>\n",
              "  </tbody>\n",
              "</table>\n",
              "</div>\n",
              "    <div class=\"colab-df-buttons\">\n",
              "\n",
              "  <div class=\"colab-df-container\">\n",
              "    <button class=\"colab-df-convert\" onclick=\"convertToInteractive('df-0c120bdf-3115-4b7f-96ac-62ab86ee524d')\"\n",
              "            title=\"Convert this dataframe to an interactive table.\"\n",
              "            style=\"display:none;\">\n",
              "\n",
              "  <svg xmlns=\"http://www.w3.org/2000/svg\" height=\"24px\" viewBox=\"0 -960 960 960\">\n",
              "    <path d=\"M120-120v-720h720v720H120Zm60-500h600v-160H180v160Zm220 220h160v-160H400v160Zm0 220h160v-160H400v160ZM180-400h160v-160H180v160Zm440 0h160v-160H620v160ZM180-180h160v-160H180v160Zm440 0h160v-160H620v160Z\"/>\n",
              "  </svg>\n",
              "    </button>\n",
              "\n",
              "  <style>\n",
              "    .colab-df-container {\n",
              "      display:flex;\n",
              "      gap: 12px;\n",
              "    }\n",
              "\n",
              "    .colab-df-convert {\n",
              "      background-color: #E8F0FE;\n",
              "      border: none;\n",
              "      border-radius: 50%;\n",
              "      cursor: pointer;\n",
              "      display: none;\n",
              "      fill: #1967D2;\n",
              "      height: 32px;\n",
              "      padding: 0 0 0 0;\n",
              "      width: 32px;\n",
              "    }\n",
              "\n",
              "    .colab-df-convert:hover {\n",
              "      background-color: #E2EBFA;\n",
              "      box-shadow: 0px 1px 2px rgba(60, 64, 67, 0.3), 0px 1px 3px 1px rgba(60, 64, 67, 0.15);\n",
              "      fill: #174EA6;\n",
              "    }\n",
              "\n",
              "    .colab-df-buttons div {\n",
              "      margin-bottom: 4px;\n",
              "    }\n",
              "\n",
              "    [theme=dark] .colab-df-convert {\n",
              "      background-color: #3B4455;\n",
              "      fill: #D2E3FC;\n",
              "    }\n",
              "\n",
              "    [theme=dark] .colab-df-convert:hover {\n",
              "      background-color: #434B5C;\n",
              "      box-shadow: 0px 1px 3px 1px rgba(0, 0, 0, 0.15);\n",
              "      filter: drop-shadow(0px 1px 2px rgba(0, 0, 0, 0.3));\n",
              "      fill: #FFFFFF;\n",
              "    }\n",
              "  </style>\n",
              "\n",
              "    <script>\n",
              "      const buttonEl =\n",
              "        document.querySelector('#df-0c120bdf-3115-4b7f-96ac-62ab86ee524d button.colab-df-convert');\n",
              "      buttonEl.style.display =\n",
              "        google.colab.kernel.accessAllowed ? 'block' : 'none';\n",
              "\n",
              "      async function convertToInteractive(key) {\n",
              "        const element = document.querySelector('#df-0c120bdf-3115-4b7f-96ac-62ab86ee524d');\n",
              "        const dataTable =\n",
              "          await google.colab.kernel.invokeFunction('convertToInteractive',\n",
              "                                                    [key], {});\n",
              "        if (!dataTable) return;\n",
              "\n",
              "        const docLinkHtml = 'Like what you see? Visit the ' +\n",
              "          '<a target=\"_blank\" href=https://colab.research.google.com/notebooks/data_table.ipynb>data table notebook</a>'\n",
              "          + ' to learn more about interactive tables.';\n",
              "        element.innerHTML = '';\n",
              "        dataTable['output_type'] = 'display_data';\n",
              "        await google.colab.output.renderOutput(dataTable, element);\n",
              "        const docLink = document.createElement('div');\n",
              "        docLink.innerHTML = docLinkHtml;\n",
              "        element.appendChild(docLink);\n",
              "      }\n",
              "    </script>\n",
              "  </div>\n",
              "\n",
              "\n",
              "    </div>\n",
              "  </div>\n"
            ],
            "application/vnd.google.colaboratory.intrinsic+json": {
              "type": "dataframe",
              "summary": "{\n  \"name\": \"df\",\n  \"rows\": 1,\n  \"fields\": [\n    {\n      \"column\": \"price\",\n      \"properties\": {\n        \"dtype\": \"number\",\n        \"std\": null,\n        \"min\": 45400,\n        \"max\": 45400,\n        \"num_unique_values\": 1,\n        \"samples\": [\n          45400\n        ],\n        \"semantic_type\": \"\",\n        \"description\": \"\"\n      }\n    },\n    {\n      \"column\": \"fuel_type\",\n      \"properties\": {\n        \"dtype\": \"string\",\n        \"num_unique_values\": 1,\n        \"samples\": [\n          \"gas\"\n        ],\n        \"semantic_type\": \"\",\n        \"description\": \"\"\n      }\n    }\n  ]\n}"
            }
          },
          "metadata": {},
          "execution_count": 13
        }
      ],
      "source": [
        "max=df['price'].max()\n",
        "df.loc[df['price']==max,(\"price\",\"fuel_type\")]"
      ]
    },
    {
      "cell_type": "code",
      "execution_count": null,
      "id": "72d64b66-5bde-4bb5-9dad-e19d3aa7a559",
      "metadata": {
        "id": "72d64b66-5bde-4bb5-9dad-e19d3aa7a559",
        "outputId": "6194d5a4-8a56-4d8e-a0d7-b9edb8356d6a",
        "colab": {
          "base_uri": "https://localhost:8080/"
        }
      },
      "outputs": [
        {
          "output_type": "execute_result",
          "data": {
            "text/plain": [
              "array(['dohc', 'ohcv', 'ohc', 'l', 'rotor', 'ohcf'], dtype=object)"
            ]
          },
          "metadata": {},
          "execution_count": 16
        }
      ],
      "source": [
        "df['engine_type'].unique()"
      ]
    },
    {
      "cell_type": "code",
      "execution_count": null,
      "id": "7b6c2bc5-0de9-4d75-99ac-be0872d3b29a",
      "metadata": {
        "id": "7b6c2bc5-0de9-4d75-99ac-be0872d3b29a",
        "outputId": "d6c74cb8-a014-4213-aa4d-58526659261e",
        "colab": {
          "base_uri": "https://localhost:8080/"
        }
      },
      "outputs": [
        {
          "output_type": "execute_result",
          "data": {
            "text/plain": [
              "(48, 262)"
            ]
          },
          "metadata": {},
          "execution_count": 17
        }
      ],
      "source": [
        "df['horsepower'].min(),df['horsepower'].max()"
      ]
    },
    {
      "cell_type": "code",
      "execution_count": null,
      "id": "78b70b45-ddf0-4e59-964b-3a58f914acca",
      "metadata": {
        "id": "78b70b45-ddf0-4e59-964b-3a58f914acca",
        "outputId": "df348b8f-2b00-4535-904c-248e937647cd",
        "colab": {
          "base_uri": "https://localhost:8080/"
        }
      },
      "outputs": [
        {
          "output_type": "stream",
          "name": "stdout",
          "text": [
            "30.686567164179106 highway_mpg is better \n"
          ]
        }
      ],
      "source": [
        "ci=df['city_mpg'].mean()\n",
        "hg=df['highway_mpg'].mean()\n",
        "if(ci<hg):\n",
        "    print(hg,\"highway_mpg is better \")\n",
        "else:\n",
        "    print(ci,\"city_mpg is better\")"
      ]
    },
    {
      "cell_type": "code",
      "execution_count": null,
      "id": "49f85d46-cb43-4a51-ba56-4ab1a53888da",
      "metadata": {
        "id": "49f85d46-cb43-4a51-ba56-4ab1a53888da",
        "outputId": "43e4c3e0-04f9-40c8-8b5d-d7562642ea69",
        "colab": {
          "base_uri": "https://localhost:8080/",
          "height": 805
        }
      },
      "outputs": [
        {
          "output_type": "execute_result",
          "data": {
            "text/plain": [
              "make\n",
              "toyota           32\n",
              "nissan           18\n",
              "mazda            17\n",
              "mitsubishi       13\n",
              "honda            13\n",
              "subaru           12\n",
              "volkswagen       12\n",
              "volvo            11\n",
              "peugot           11\n",
              "dodge             9\n",
              "mercedes-benz     8\n",
              "bmw               8\n",
              "plymouth          7\n",
              "audi              6\n",
              "saab              6\n",
              "porsche           4\n",
              "chevrolet         3\n",
              "alfa-romero       3\n",
              "jaguar            3\n",
              "isuzu             2\n",
              "renault           2\n",
              "mercury           1\n",
              "Name: count, dtype: int64"
            ],
            "text/html": [
              "<div>\n",
              "<style scoped>\n",
              "    .dataframe tbody tr th:only-of-type {\n",
              "        vertical-align: middle;\n",
              "    }\n",
              "\n",
              "    .dataframe tbody tr th {\n",
              "        vertical-align: top;\n",
              "    }\n",
              "\n",
              "    .dataframe thead th {\n",
              "        text-align: right;\n",
              "    }\n",
              "</style>\n",
              "<table border=\"1\" class=\"dataframe\">\n",
              "  <thead>\n",
              "    <tr style=\"text-align: right;\">\n",
              "      <th></th>\n",
              "      <th>count</th>\n",
              "    </tr>\n",
              "    <tr>\n",
              "      <th>make</th>\n",
              "      <th></th>\n",
              "    </tr>\n",
              "  </thead>\n",
              "  <tbody>\n",
              "    <tr>\n",
              "      <th>toyota</th>\n",
              "      <td>32</td>\n",
              "    </tr>\n",
              "    <tr>\n",
              "      <th>nissan</th>\n",
              "      <td>18</td>\n",
              "    </tr>\n",
              "    <tr>\n",
              "      <th>mazda</th>\n",
              "      <td>17</td>\n",
              "    </tr>\n",
              "    <tr>\n",
              "      <th>mitsubishi</th>\n",
              "      <td>13</td>\n",
              "    </tr>\n",
              "    <tr>\n",
              "      <th>honda</th>\n",
              "      <td>13</td>\n",
              "    </tr>\n",
              "    <tr>\n",
              "      <th>subaru</th>\n",
              "      <td>12</td>\n",
              "    </tr>\n",
              "    <tr>\n",
              "      <th>volkswagen</th>\n",
              "      <td>12</td>\n",
              "    </tr>\n",
              "    <tr>\n",
              "      <th>volvo</th>\n",
              "      <td>11</td>\n",
              "    </tr>\n",
              "    <tr>\n",
              "      <th>peugot</th>\n",
              "      <td>11</td>\n",
              "    </tr>\n",
              "    <tr>\n",
              "      <th>dodge</th>\n",
              "      <td>9</td>\n",
              "    </tr>\n",
              "    <tr>\n",
              "      <th>mercedes-benz</th>\n",
              "      <td>8</td>\n",
              "    </tr>\n",
              "    <tr>\n",
              "      <th>bmw</th>\n",
              "      <td>8</td>\n",
              "    </tr>\n",
              "    <tr>\n",
              "      <th>plymouth</th>\n",
              "      <td>7</td>\n",
              "    </tr>\n",
              "    <tr>\n",
              "      <th>audi</th>\n",
              "      <td>6</td>\n",
              "    </tr>\n",
              "    <tr>\n",
              "      <th>saab</th>\n",
              "      <td>6</td>\n",
              "    </tr>\n",
              "    <tr>\n",
              "      <th>porsche</th>\n",
              "      <td>4</td>\n",
              "    </tr>\n",
              "    <tr>\n",
              "      <th>chevrolet</th>\n",
              "      <td>3</td>\n",
              "    </tr>\n",
              "    <tr>\n",
              "      <th>alfa-romero</th>\n",
              "      <td>3</td>\n",
              "    </tr>\n",
              "    <tr>\n",
              "      <th>jaguar</th>\n",
              "      <td>3</td>\n",
              "    </tr>\n",
              "    <tr>\n",
              "      <th>isuzu</th>\n",
              "      <td>2</td>\n",
              "    </tr>\n",
              "    <tr>\n",
              "      <th>renault</th>\n",
              "      <td>2</td>\n",
              "    </tr>\n",
              "    <tr>\n",
              "      <th>mercury</th>\n",
              "      <td>1</td>\n",
              "    </tr>\n",
              "  </tbody>\n",
              "</table>\n",
              "</div><br><label><b>dtype:</b> int64</label>"
            ]
          },
          "metadata": {},
          "execution_count": 19
        }
      ],
      "source": [
        "df['make'].value_counts()\n"
      ]
    },
    {
      "cell_type": "markdown",
      "id": "18b47533-2d01-42af-830b-2d3c8f521208",
      "metadata": {
        "id": "18b47533-2d01-42af-830b-2d3c8f521208"
      },
      "source": [
        "2.Using the following DataFrame:\n",
        "df = pd.DataFrame({\n",
        "    \"Name\": [\"Alice\", \"Bob\", \"Charlie\", \"David\"],\n",
        "    \"Age\": [24, 27, 22, 32],\n",
        "    \"Score\": [85, 90, 78, 88\n",
        "Task\n",
        "Retrieve the row where Name == \"Charlie\" using .loc[].\n",
        "Select only the Age and Score columns for \"Alice\" and \"Bob\" using .loc[].\n",
        "]\n",
        "})\n",
        "88]\n"
      ]
    },
    {
      "cell_type": "code",
      "execution_count": null,
      "id": "5fc92304-4f76-4d48-9701-c19113402ea5",
      "metadata": {
        "id": "5fc92304-4f76-4d48-9701-c19113402ea5",
        "outputId": "56cdbd59-e078-4f64-ed54-b9edea0c6472",
        "colab": {
          "base_uri": "https://localhost:8080/"
        }
      },
      "outputs": [
        {
          "output_type": "stream",
          "name": "stdout",
          "text": [
            "      Name  Age  Score\n",
            "2  Charlie   22     78\n",
            "   Age  Score\n",
            "0   24     85\n",
            "1   27     90\n"
          ]
        }
      ],
      "source": [
        "import pandas as pd\n",
        "df = pd.DataFrame({\n",
        "    \"Name\": [\"Alice\", \"Bob\", \"Charlie\", \"David\"],\n",
        "    \"Age\": [24, 27, 22, 32],\n",
        "    \"Score\": [85, 90, 78, 88]\n",
        "})\n",
        "\n",
        "print(df.loc[df['Name']==\"Charlie\",])\n",
        "print(df.loc[df['Name'].isin([\"Alice\",\"Bob\"]),\"Age\":\"Score\"])"
      ]
    },
    {
      "cell_type": "markdown",
      "id": "8451ea9e-e2ea-4754-a4aa-07cde1897604",
      "metadata": {
        "id": "8451ea9e-e2ea-4754-a4aa-07cde1897604"
      },
      "source": [
        "\n",
        "3. Accessing Data with .iloc[]\n",
        "Using the same DataFrame from Question 2, write code to:\n",
        "Retrieve the second row using .iloc[].\n",
        "Extract the last two rows using .iloc[].\n"
      ]
    },
    {
      "cell_type": "code",
      "execution_count": null,
      "id": "70fb3f5b-ea2c-4f93-8a49-a6a5c4a2e26b",
      "metadata": {
        "id": "70fb3f5b-ea2c-4f93-8a49-a6a5c4a2e26b",
        "outputId": "a6b2df59-7f43-46ab-e3dd-320e2a843b76",
        "colab": {
          "base_uri": "https://localhost:8080/"
        }
      },
      "outputs": [
        {
          "output_type": "stream",
          "name": "stdout",
          "text": [
            "  Name  Age  Score\n",
            "1  Bob   27     90\n",
            "      Name  Age  Score\n",
            "2  Charlie   22     78\n",
            "3    David   32     88\n"
          ]
        }
      ],
      "source": [
        "print(df.iloc[1:2,])\n",
        "print(df.iloc[2:,])"
      ]
    },
    {
      "cell_type": "markdown",
      "id": "3a7487f4-56d5-407b-a0bc-6a6f0f6fbabc",
      "metadata": {
        "id": "3a7487f4-56d5-407b-a0bc-6a6f0f6fbabc"
      },
      "source": [
        "4. Filtering Rows Based on Conditions\n",
        "Using the following DataFrame:\n",
        "df = pd.DataFrame({\n",
        "    \"Employee\": [\"John\", \"Alice\", \"Bob\", \"David\"],\n",
        "    \"Salary\": [50000, 60000, 55000, 65000],\n",
        "    \"Department\": [\"IT\", \"HR\", \"IT\", \"Finance\"]\n",
        "})\n",
        "Task\n",
        "Write a Pandas command to:\n",
        "Select only IT employees.\n",
        "Select employees with a salary greater than 55,000"
      ]
    },
    {
      "cell_type": "code",
      "execution_count": null,
      "id": "8b759f63-023e-43fd-aa64-e748f73b1393",
      "metadata": {
        "id": "8b759f63-023e-43fd-aa64-e748f73b1393",
        "outputId": "54ded99b-b920-4678-a576-88d13862155e",
        "colab": {
          "base_uri": "https://localhost:8080/"
        }
      },
      "outputs": [
        {
          "output_type": "stream",
          "name": "stdout",
          "text": [
            "  Employee  Salary Department\n",
            "0     John   50000         IT\n",
            "2      Bob   55000         IT\n"
          ]
        }
      ],
      "source": [
        "import pandas as pd\n",
        "df = pd.DataFrame({\n",
        "    \"Employee\": [\"John\", \"Alice\", \"Bob\", \"David\"],\n",
        "    \"Salary\": [50000, 60000, 55000, 65000],\n",
        "    \"Department\": [\"IT\", \"HR\", \"IT\", \"Finance\"]\n",
        "})\n",
        "\n",
        "print(df.loc[df[\"Department\"]==\"IT\",\"Employee\":\"Department\"])"
      ]
    },
    {
      "cell_type": "code",
      "execution_count": null,
      "id": "1b4f4065-b496-42f6-ac29-12ce837cbdea",
      "metadata": {
        "id": "1b4f4065-b496-42f6-ac29-12ce837cbdea",
        "outputId": "06b2cd9e-a1f4-419c-8dfb-8037f40e4023",
        "colab": {
          "base_uri": "https://localhost:8080/"
        }
      },
      "outputs": [
        {
          "output_type": "stream",
          "name": "stdout",
          "text": [
            "  Employee  Salary Department\n",
            "1    Alice   60000         HR\n",
            "2      Bob   55000         IT\n",
            "3    David   65000    Finance\n"
          ]
        }
      ],
      "source": [
        "d=df.loc[df[\"Salary\"]>=55000]\n",
        "print(d)"
      ]
    },
    {
      "cell_type": "markdown",
      "id": "9635a9c1-62c4-452c-af85-9353a4d4404d",
      "metadata": {
        "id": "9635a9c1-62c4-452c-af85-9353a4d4404d"
      },
      "source": [
        "5. Applying Functions to a Column\n",
        "Using the following DataFrame:\n",
        "df = pd.DataFrame({\n",
        "    \"Student\": [\"A\", \"B\", \"C\", \"D\"],\n",
        "    \"Marks\": [45, 78, 62, 90]\n",
        "})\n",
        "Task\n",
        "Write a function that:\n",
        "Converts marks below 50 to \"Fail\", and 50 or above to \"Pass\".\n",
        "Apply this function to the \"Marks\" column and create a new column \"Result\".\n"
      ]
    },
    {
      "cell_type": "code",
      "execution_count": null,
      "id": "f3303d5a-fed4-4a50-83ae-7fa76c7356e9",
      "metadata": {
        "id": "f3303d5a-fed4-4a50-83ae-7fa76c7356e9",
        "outputId": "bc48bdd6-8d26-4fe8-e985-d489102fe37c",
        "colab": {
          "base_uri": "https://localhost:8080/"
        }
      },
      "outputs": [
        {
          "output_type": "stream",
          "name": "stdout",
          "text": [
            "  Student  Marks result\n",
            "0       A     45   fail\n",
            "1       B     78   pass\n",
            "2       c     62   pass\n",
            "3       d     90   pass\n"
          ]
        }
      ],
      "source": [
        "import pandas as pd\n",
        "df=pd.DataFrame({\n",
        "    \"Student\":[\"A\",\"B\",\"c\",\"d\"],\n",
        "    \"Marks\":[45,78,62,90]\n",
        "})\n",
        "def mark(marks):\n",
        "    return \"pass\" if marks>=50 else \"fail\"\n",
        "df[\"result\"]=df[\"Marks\"].apply(mark)\n",
        "print(df)"
      ]
    },
    {
      "cell_type": "markdown",
      "id": "963c13cb-bb2f-40aa-8289-136d930a41fc",
      "metadata": {
        "id": "963c13cb-bb2f-40aa-8289-136d930a41fc"
      },
      "source": [
        "6. NumPy - Creating and Reshaping Arrays\n",
        "Write Python code to:\n",
        "Create a NumPy array with values from 1 to 12.\n",
        "Reshape it into a 3x4 matrix.\n"
      ]
    },
    {
      "cell_type": "code",
      "execution_count": null,
      "id": "ec8d07c6-73ee-4c21-b22e-aebe8926bc8d",
      "metadata": {
        "id": "ec8d07c6-73ee-4c21-b22e-aebe8926bc8d",
        "outputId": "b5b341aa-6385-4dcf-e5d1-7717c385e43b",
        "colab": {
          "base_uri": "https://localhost:8080/"
        }
      },
      "outputs": [
        {
          "output_type": "stream",
          "name": "stdout",
          "text": [
            "[[ 1  2  3  4]\n",
            " [ 5  6  7  8]\n",
            " [ 9 10 11 12]]\n"
          ]
        }
      ],
      "source": [
        "import numpy as np\n",
        "print(np.arange(1,13).reshape(3,4))"
      ]
    },
    {
      "cell_type": "markdown",
      "id": "99ebe012-d670-4dc8-a2a3-88a8d5d1c529",
      "metadata": {
        "id": "99ebe012-d670-4dc8-a2a3-88a8d5d1c529"
      },
      "source": [
        "7. NumPy - Broadcasting & Element-wise Operations\n",
        "You are given the following NumPy arrays:\n",
        "a = np.array([1, 2, 3])\n",
        "b = np.array([10, 20, 30])\n",
        "Task\n",
        "Perform:\n",
        "Element-wise multiplication of a and b.\n",
        "Add 5 to each element of a using broadcasting.\n"
      ]
    },
    {
      "cell_type": "code",
      "execution_count": null,
      "id": "a4913e82-e6ae-42ae-8f7f-81e73b7ef905",
      "metadata": {
        "id": "a4913e82-e6ae-42ae-8f7f-81e73b7ef905",
        "outputId": "8b163ab4-2af3-4375-a6b6-7139ab706d0b",
        "colab": {
          "base_uri": "https://localhost:8080/"
        }
      },
      "outputs": [
        {
          "output_type": "stream",
          "name": "stdout",
          "text": [
            "[1 2 3] [10 20 30]\n",
            "multiplication [10 40 90]\n",
            "after additon [6 7 8] [15 25 35]\n"
          ]
        }
      ],
      "source": [
        "a = np.array([1, 2, 3])\n",
        "b = np.array([10, 20, 30])\n",
        "print(a,b)\n",
        "print(\"multiplication\",a*b)\n",
        "a=a+5\n",
        "b=b+5\n",
        "print(\"after additon\",a,b)\n"
      ]
    },
    {
      "cell_type": "markdown",
      "id": "95f7b144-d198-4023-8488-1dba5245e709",
      "metadata": {
        "id": "95f7b144-d198-4023-8488-1dba5245e709"
      },
      "source": [
        "8. Finding Maximum and Minimum Values in a NumPy Array\n",
        "Given:\n",
        "arr = np.array([[3, 7, 2], [4, 9, 6]])\n",
        "Task\n",
        "Find the maximum value in the entire array.\n",
        "Find the minimum value in each row"
      ]
    },
    {
      "cell_type": "code",
      "execution_count": null,
      "id": "785560dc-d79c-436e-a359-c7bf7c13b454",
      "metadata": {
        "id": "785560dc-d79c-436e-a359-c7bf7c13b454",
        "outputId": "a3a34117-6ac2-4381-efc1-d8e35766e668",
        "colab": {
          "base_uri": "https://localhost:8080/"
        }
      },
      "outputs": [
        {
          "output_type": "stream",
          "name": "stdout",
          "text": [
            "[[3 7 2]\n",
            " [4 9 6]]\n",
            "[3 7 2]\n",
            "[2 4]\n"
          ]
        }
      ],
      "source": [
        "a=(np.array([[3, 7, 2], [4, 9, 6]]))\n",
        "print(a)\n",
        "print(np.min(a,axis=0))#ie to mention column axis=0\n",
        "print(np.min(a,axis=1))#ie to mention rows axis=1"
      ]
    },
    {
      "cell_type": "markdown",
      "id": "abf1cc07-74ab-45f0-8599-7d163c5d4206",
      "metadata": {
        "id": "abf1cc07-74ab-45f0-8599-7d163c5d4206"
      },
      "source": [
        "9. Grouping & Aggregation in Pandas\n",
        "You have the following DataFrame:\n",
        "df = pd.DataFrame({\n",
        "    \"Department\": [\"IT\", \"HR\", \"IT\", \"Finance\", \"HR\"],\n",
        "    \"Salary\": [70000, 50000, 80000, 60000, 52000]\n",
        "})\n",
        "Task\n",
        "Write a Pandas command to:\n",
        "Group the DataFrame by \"Department\" and calculate the average salary per department.\n"
      ]
    },
    {
      "cell_type": "code",
      "execution_count": null,
      "id": "fe02139e-1858-4613-8a0c-1cb8b96d120f",
      "metadata": {
        "id": "fe02139e-1858-4613-8a0c-1cb8b96d120f",
        "outputId": "c54b2c4c-7c3d-4b02-f061-a80ff52f6d73",
        "colab": {
          "base_uri": "https://localhost:8080/"
        }
      },
      "outputs": [
        {
          "output_type": "stream",
          "name": "stdout",
          "text": [
            "Department\n",
            "Finance    60000.0\n",
            "HR         51000.0\n",
            "IT         75000.0\n",
            "Name: Salary, dtype: float64\n"
          ]
        }
      ],
      "source": [
        "df = pd.DataFrame({\n",
        "    \"Department\": [\"IT\", \"HR\", \"IT\", \"Finance\", \"HR\"],\n",
        "    \"Salary\": [70000, 50000, 80000, 60000, 52000]\n",
        "})\n",
        "print(df.groupby('Department')['Salary'].mean())"
      ]
    },
    {
      "cell_type": "markdown",
      "id": "81855c0a-c67f-4407-ba61-ccfc38defd4b",
      "metadata": {
        "id": "81855c0a-c67f-4407-ba61-ccfc38defd4b"
      },
      "source": [
        "10. Sorting a DataFrame\n",
        "Given the following DataFrame:\n",
        "df = pd.DataFrame({\n",
        "    \"City\": [\"New York\", \"Los Angeles\", \"Chicago\", \"Houston\"],\n",
        "    \"Population\": [8419600, 3980400, 2716000, 2328000]\n",
        "})\n",
        "Task\n",
        "Sort the DataFrame by Population in descending order.\n"
      ]
    },
    {
      "cell_type": "code",
      "execution_count": null,
      "id": "580aafbe-ab42-4b23-9b6f-50ee814b3242",
      "metadata": {
        "id": "580aafbe-ab42-4b23-9b6f-50ee814b3242",
        "outputId": "09ccab11-4e6a-4e8a-bc9d-f47a797455a5",
        "colab": {
          "base_uri": "https://localhost:8080/",
          "height": 174
        }
      },
      "outputs": [
        {
          "output_type": "execute_result",
          "data": {
            "text/plain": [
              "          City  Population\n",
              "0     New York     8419600\n",
              "1  Los Angeles     3980400\n",
              "2      Chicago     2716000\n",
              "3      Houston     2328000"
            ],
            "text/html": [
              "\n",
              "  <div id=\"df-617f3d2b-8026-4ae2-83ce-b8205c6044df\" class=\"colab-df-container\">\n",
              "    <div>\n",
              "<style scoped>\n",
              "    .dataframe tbody tr th:only-of-type {\n",
              "        vertical-align: middle;\n",
              "    }\n",
              "\n",
              "    .dataframe tbody tr th {\n",
              "        vertical-align: top;\n",
              "    }\n",
              "\n",
              "    .dataframe thead th {\n",
              "        text-align: right;\n",
              "    }\n",
              "</style>\n",
              "<table border=\"1\" class=\"dataframe\">\n",
              "  <thead>\n",
              "    <tr style=\"text-align: right;\">\n",
              "      <th></th>\n",
              "      <th>City</th>\n",
              "      <th>Population</th>\n",
              "    </tr>\n",
              "  </thead>\n",
              "  <tbody>\n",
              "    <tr>\n",
              "      <th>0</th>\n",
              "      <td>New York</td>\n",
              "      <td>8419600</td>\n",
              "    </tr>\n",
              "    <tr>\n",
              "      <th>1</th>\n",
              "      <td>Los Angeles</td>\n",
              "      <td>3980400</td>\n",
              "    </tr>\n",
              "    <tr>\n",
              "      <th>2</th>\n",
              "      <td>Chicago</td>\n",
              "      <td>2716000</td>\n",
              "    </tr>\n",
              "    <tr>\n",
              "      <th>3</th>\n",
              "      <td>Houston</td>\n",
              "      <td>2328000</td>\n",
              "    </tr>\n",
              "  </tbody>\n",
              "</table>\n",
              "</div>\n",
              "    <div class=\"colab-df-buttons\">\n",
              "\n",
              "  <div class=\"colab-df-container\">\n",
              "    <button class=\"colab-df-convert\" onclick=\"convertToInteractive('df-617f3d2b-8026-4ae2-83ce-b8205c6044df')\"\n",
              "            title=\"Convert this dataframe to an interactive table.\"\n",
              "            style=\"display:none;\">\n",
              "\n",
              "  <svg xmlns=\"http://www.w3.org/2000/svg\" height=\"24px\" viewBox=\"0 -960 960 960\">\n",
              "    <path d=\"M120-120v-720h720v720H120Zm60-500h600v-160H180v160Zm220 220h160v-160H400v160Zm0 220h160v-160H400v160ZM180-400h160v-160H180v160Zm440 0h160v-160H620v160ZM180-180h160v-160H180v160Zm440 0h160v-160H620v160Z\"/>\n",
              "  </svg>\n",
              "    </button>\n",
              "\n",
              "  <style>\n",
              "    .colab-df-container {\n",
              "      display:flex;\n",
              "      gap: 12px;\n",
              "    }\n",
              "\n",
              "    .colab-df-convert {\n",
              "      background-color: #E8F0FE;\n",
              "      border: none;\n",
              "      border-radius: 50%;\n",
              "      cursor: pointer;\n",
              "      display: none;\n",
              "      fill: #1967D2;\n",
              "      height: 32px;\n",
              "      padding: 0 0 0 0;\n",
              "      width: 32px;\n",
              "    }\n",
              "\n",
              "    .colab-df-convert:hover {\n",
              "      background-color: #E2EBFA;\n",
              "      box-shadow: 0px 1px 2px rgba(60, 64, 67, 0.3), 0px 1px 3px 1px rgba(60, 64, 67, 0.15);\n",
              "      fill: #174EA6;\n",
              "    }\n",
              "\n",
              "    .colab-df-buttons div {\n",
              "      margin-bottom: 4px;\n",
              "    }\n",
              "\n",
              "    [theme=dark] .colab-df-convert {\n",
              "      background-color: #3B4455;\n",
              "      fill: #D2E3FC;\n",
              "    }\n",
              "\n",
              "    [theme=dark] .colab-df-convert:hover {\n",
              "      background-color: #434B5C;\n",
              "      box-shadow: 0px 1px 3px 1px rgba(0, 0, 0, 0.15);\n",
              "      filter: drop-shadow(0px 1px 2px rgba(0, 0, 0, 0.3));\n",
              "      fill: #FFFFFF;\n",
              "    }\n",
              "  </style>\n",
              "\n",
              "    <script>\n",
              "      const buttonEl =\n",
              "        document.querySelector('#df-617f3d2b-8026-4ae2-83ce-b8205c6044df button.colab-df-convert');\n",
              "      buttonEl.style.display =\n",
              "        google.colab.kernel.accessAllowed ? 'block' : 'none';\n",
              "\n",
              "      async function convertToInteractive(key) {\n",
              "        const element = document.querySelector('#df-617f3d2b-8026-4ae2-83ce-b8205c6044df');\n",
              "        const dataTable =\n",
              "          await google.colab.kernel.invokeFunction('convertToInteractive',\n",
              "                                                    [key], {});\n",
              "        if (!dataTable) return;\n",
              "\n",
              "        const docLinkHtml = 'Like what you see? Visit the ' +\n",
              "          '<a target=\"_blank\" href=https://colab.research.google.com/notebooks/data_table.ipynb>data table notebook</a>'\n",
              "          + ' to learn more about interactive tables.';\n",
              "        element.innerHTML = '';\n",
              "        dataTable['output_type'] = 'display_data';\n",
              "        await google.colab.output.renderOutput(dataTable, element);\n",
              "        const docLink = document.createElement('div');\n",
              "        docLink.innerHTML = docLinkHtml;\n",
              "        element.appendChild(docLink);\n",
              "      }\n",
              "    </script>\n",
              "  </div>\n",
              "\n",
              "\n",
              "<div id=\"df-f58a555d-3225-4315-88e9-5a1c97ef2b4d\">\n",
              "  <button class=\"colab-df-quickchart\" onclick=\"quickchart('df-f58a555d-3225-4315-88e9-5a1c97ef2b4d')\"\n",
              "            title=\"Suggest charts\"\n",
              "            style=\"display:none;\">\n",
              "\n",
              "<svg xmlns=\"http://www.w3.org/2000/svg\" height=\"24px\"viewBox=\"0 0 24 24\"\n",
              "     width=\"24px\">\n",
              "    <g>\n",
              "        <path d=\"M19 3H5c-1.1 0-2 .9-2 2v14c0 1.1.9 2 2 2h14c1.1 0 2-.9 2-2V5c0-1.1-.9-2-2-2zM9 17H7v-7h2v7zm4 0h-2V7h2v10zm4 0h-2v-4h2v4z\"/>\n",
              "    </g>\n",
              "</svg>\n",
              "  </button>\n",
              "\n",
              "<style>\n",
              "  .colab-df-quickchart {\n",
              "      --bg-color: #E8F0FE;\n",
              "      --fill-color: #1967D2;\n",
              "      --hover-bg-color: #E2EBFA;\n",
              "      --hover-fill-color: #174EA6;\n",
              "      --disabled-fill-color: #AAA;\n",
              "      --disabled-bg-color: #DDD;\n",
              "  }\n",
              "\n",
              "  [theme=dark] .colab-df-quickchart {\n",
              "      --bg-color: #3B4455;\n",
              "      --fill-color: #D2E3FC;\n",
              "      --hover-bg-color: #434B5C;\n",
              "      --hover-fill-color: #FFFFFF;\n",
              "      --disabled-bg-color: #3B4455;\n",
              "      --disabled-fill-color: #666;\n",
              "  }\n",
              "\n",
              "  .colab-df-quickchart {\n",
              "    background-color: var(--bg-color);\n",
              "    border: none;\n",
              "    border-radius: 50%;\n",
              "    cursor: pointer;\n",
              "    display: none;\n",
              "    fill: var(--fill-color);\n",
              "    height: 32px;\n",
              "    padding: 0;\n",
              "    width: 32px;\n",
              "  }\n",
              "\n",
              "  .colab-df-quickchart:hover {\n",
              "    background-color: var(--hover-bg-color);\n",
              "    box-shadow: 0 1px 2px rgba(60, 64, 67, 0.3), 0 1px 3px 1px rgba(60, 64, 67, 0.15);\n",
              "    fill: var(--button-hover-fill-color);\n",
              "  }\n",
              "\n",
              "  .colab-df-quickchart-complete:disabled,\n",
              "  .colab-df-quickchart-complete:disabled:hover {\n",
              "    background-color: var(--disabled-bg-color);\n",
              "    fill: var(--disabled-fill-color);\n",
              "    box-shadow: none;\n",
              "  }\n",
              "\n",
              "  .colab-df-spinner {\n",
              "    border: 2px solid var(--fill-color);\n",
              "    border-color: transparent;\n",
              "    border-bottom-color: var(--fill-color);\n",
              "    animation:\n",
              "      spin 1s steps(1) infinite;\n",
              "  }\n",
              "\n",
              "  @keyframes spin {\n",
              "    0% {\n",
              "      border-color: transparent;\n",
              "      border-bottom-color: var(--fill-color);\n",
              "      border-left-color: var(--fill-color);\n",
              "    }\n",
              "    20% {\n",
              "      border-color: transparent;\n",
              "      border-left-color: var(--fill-color);\n",
              "      border-top-color: var(--fill-color);\n",
              "    }\n",
              "    30% {\n",
              "      border-color: transparent;\n",
              "      border-left-color: var(--fill-color);\n",
              "      border-top-color: var(--fill-color);\n",
              "      border-right-color: var(--fill-color);\n",
              "    }\n",
              "    40% {\n",
              "      border-color: transparent;\n",
              "      border-right-color: var(--fill-color);\n",
              "      border-top-color: var(--fill-color);\n",
              "    }\n",
              "    60% {\n",
              "      border-color: transparent;\n",
              "      border-right-color: var(--fill-color);\n",
              "    }\n",
              "    80% {\n",
              "      border-color: transparent;\n",
              "      border-right-color: var(--fill-color);\n",
              "      border-bottom-color: var(--fill-color);\n",
              "    }\n",
              "    90% {\n",
              "      border-color: transparent;\n",
              "      border-bottom-color: var(--fill-color);\n",
              "    }\n",
              "  }\n",
              "</style>\n",
              "\n",
              "  <script>\n",
              "    async function quickchart(key) {\n",
              "      const quickchartButtonEl =\n",
              "        document.querySelector('#' + key + ' button');\n",
              "      quickchartButtonEl.disabled = true;  // To prevent multiple clicks.\n",
              "      quickchartButtonEl.classList.add('colab-df-spinner');\n",
              "      try {\n",
              "        const charts = await google.colab.kernel.invokeFunction(\n",
              "            'suggestCharts', [key], {});\n",
              "      } catch (error) {\n",
              "        console.error('Error during call to suggestCharts:', error);\n",
              "      }\n",
              "      quickchartButtonEl.classList.remove('colab-df-spinner');\n",
              "      quickchartButtonEl.classList.add('colab-df-quickchart-complete');\n",
              "    }\n",
              "    (() => {\n",
              "      let quickchartButtonEl =\n",
              "        document.querySelector('#df-f58a555d-3225-4315-88e9-5a1c97ef2b4d button');\n",
              "      quickchartButtonEl.style.display =\n",
              "        google.colab.kernel.accessAllowed ? 'block' : 'none';\n",
              "    })();\n",
              "  </script>\n",
              "</div>\n",
              "\n",
              "    </div>\n",
              "  </div>\n"
            ],
            "application/vnd.google.colaboratory.intrinsic+json": {
              "type": "dataframe",
              "summary": "{\n  \"name\": \"df\",\n  \"rows\": 4,\n  \"fields\": [\n    {\n      \"column\": \"City\",\n      \"properties\": {\n        \"dtype\": \"string\",\n        \"num_unique_values\": 4,\n        \"samples\": [\n          \"Los Angeles\",\n          \"Houston\",\n          \"New York\"\n        ],\n        \"semantic_type\": \"\",\n        \"description\": \"\"\n      }\n    },\n    {\n      \"column\": \"Population\",\n      \"properties\": {\n        \"dtype\": \"number\",\n        \"std\": 2796200,\n        \"min\": 2328000,\n        \"max\": 8419600,\n        \"num_unique_values\": 4,\n        \"samples\": [\n          3980400,\n          2328000,\n          8419600\n        ],\n        \"semantic_type\": \"\",\n        \"description\": \"\"\n      }\n    }\n  ]\n}"
            }
          },
          "metadata": {},
          "execution_count": 46
        }
      ],
      "source": [
        "df = pd.DataFrame({\n",
        "    \"City\": [\"New York\", \"Los Angeles\", \"Chicago\", \"Houston\"],\n",
        "    \"Population\": [8419600, 3980400, 2716000, 2328000]\n",
        "})\n",
        "\n",
        "df.sort_values('Population',ascending=False)"
      ]
    },
    {
      "cell_type": "markdown",
      "source": [
        "11. Multi-Indexing in Pandas\n",
        "You are given the following DataFrame:\n",
        "data = {\n",
        "    \"Region\": [\"North\", \"North\", \"South\", \"South\", \"East\", \"East\"],\n",
        "    \"City\": [\"A\", \"B\", \"A\", \"B\", \"A\", \"B\"],\n",
        "    \"Sales\": [200, 150, 180, 220, 300, 250]\n",
        "}\n",
        "df = pd.DataFrame(data).set_index([\"Region\", \"City\"])\n",
        "Task\n",
        "Retrieve the sales value for City A in the South Region using multi-indexing."
      ],
      "metadata": {
        "id": "SQl60C7Pe0OI"
      },
      "id": "SQl60C7Pe0OI"
    },
    {
      "cell_type": "code",
      "execution_count": null,
      "id": "a1e999ce-cba0-4244-b3e6-68cf08aaa96b",
      "metadata": {
        "colab": {
          "base_uri": "https://localhost:8080/"
        },
        "id": "a1e999ce-cba0-4244-b3e6-68cf08aaa96b",
        "outputId": "ba70d10d-d590-4e89-8c30-ce0d0a185508"
      },
      "outputs": [
        {
          "output_type": "stream",
          "name": "stdout",
          "text": [
            "             Sales\n",
            "Region City       \n",
            "North  A       200\n",
            "       B       150\n",
            "South  A       180\n",
            "       B       220\n",
            "East   A       300\n",
            "       B       250\n",
            "             Sales\n",
            "Region City       \n",
            "North  A       200\n",
            "       B       150\n",
            "South  A       180\n",
            "       B       220\n",
            "East   A       300\n",
            "       B       250\n",
            "Sales    180\n",
            "Name: (South, A), dtype: int64\n"
          ]
        }
      ],
      "source": [
        "import pandas as pd\n",
        "data = {\n",
        "    \"Region\": [\"North\", \"North\", \"South\", \"South\", \"East\", \"East\"],\n",
        "    \"City\": [\"A\", \"B\", \"A\", \"B\", \"A\", \"B\"],\n",
        "    \"Sales\": [200, 150, 180, 220, 300, 250]\n",
        "}\n",
        "df=pd.DataFrame(data).set_index([\"Region\",\"City\"])\n",
        "print(df)\n",
        "print(df.loc[(\"South\",\"A\")])"
      ]
    },
    {
      "cell_type": "markdown",
      "source": [
        "12. Creating a DataFrame from a NumPy Array\n",
        "Generate a 5x4 NumPy array with random integers between 10 and 99 and convert it into a Pandas DataFrame with column names [\"A\", \"B\", \"C\", \"D\"]."
      ],
      "metadata": {
        "id": "MbrPPcv7lFmk"
      },
      "id": "MbrPPcv7lFmk"
    },
    {
      "cell_type": "code",
      "source": [
        "import numpy as np\n",
        "import pandas as pd\n",
        "df=pd.DataFrame(np.random.randint(10,99,size=(5,4)),columns=[\"A\",\"B\",\"C\",\"D\"])\n",
        "print(df)"
      ],
      "metadata": {
        "colab": {
          "base_uri": "https://localhost:8080/"
        },
        "id": "YObZY6SolWrr",
        "outputId": "302d6df4-d159-4f8c-e239-27ecb6f1edf0"
      },
      "id": "YObZY6SolWrr",
      "execution_count": null,
      "outputs": [
        {
          "output_type": "stream",
          "name": "stdout",
          "text": [
            "    A   B   C   D\n",
            "0  81  35  43  72\n",
            "1  49  95  74  20\n",
            "2  57  10  71  85\n",
            "3  72  83  61  44\n",
            "4  18  94  87  56\n"
          ]
        }
      ]
    },
    {
      "cell_type": "markdown",
      "source": [
        "13. Conditional Column Update\n",
        "Given the following DataFrame:\n",
        "df = pd.DataFrame({\n",
        "    \"Student\": [\"Alice\", \"Bob\", \"Charlie\", \"David\"],\n",
        "    \"Marks\": [88, 45, 76, 90],\n",
        "    \"Attendance\": [85, 50, 90, 60]\n",
        "})\n",
        " Task\n",
        "Write a one-liner Pandas command to set \"Marks\" to 0 for students whose \"Attendance\" is less than 60."
      ],
      "metadata": {
        "id": "ZFVVXQX0n5HP"
      },
      "id": "ZFVVXQX0n5HP"
    },
    {
      "cell_type": "code",
      "source": [
        "df=pd.DataFrame({ \"Student\": [\"Alice\", \"Bob\", \"Charlie\", \"David\"], \"Marks\": [88, 45, 76, 90], \"Attendance\": [85, 50, 90, 60] })\n",
        "df.loc[df[\"Attendance\"]<60,\"Marks\"]=0\n",
        "print(df)"
      ],
      "metadata": {
        "colab": {
          "base_uri": "https://localhost:8080/"
        },
        "id": "UcKe5Yd6n6Lu",
        "outputId": "5115fd56-30fa-4873-b118-e0dbf21c2370"
      },
      "id": "UcKe5Yd6n6Lu",
      "execution_count": null,
      "outputs": [
        {
          "output_type": "stream",
          "name": "stdout",
          "text": [
            "   Student  Marks  Attendance\n",
            "0    Alice     88          85\n",
            "1      Bob      0          50\n",
            "2  Charlie     76          90\n",
            "3    David     90          60\n"
          ]
        }
      ]
    },
    {
      "cell_type": "markdown",
      "source": [
        "14. Advanced Filtering\n",
        "From a CSV file \"employees.csv\" with columns:\n",
        "EmployeeID, Department, Salary, Experience (in years).\n",
        "Note: You should create “employees.csv” & perform the below task\n",
        "Task\n",
        "Write a Pandas query to:\n",
        "Select employees from \"IT\" or \"Finance\" department\n",
        "Having Salary > 60,000\n",
        "AND at least 5 years of experience"
      ],
      "metadata": {
        "id": "M41q7W4ytJeu"
      },
      "id": "M41q7W4ytJeu"
    },
    {
      "cell_type": "code",
      "source": [
        "import pandas as pd\n",
        "data = {\n",
        "    \"EmployeeID\": [1, 2, 3, 4, 5, 6, 7],\n",
        "    \"Department\": [\"IT\", \"HR\", \"Finance\", \"IT\", \"HR\", \"Finance\", \"IT\"],\n",
        "    \"Salary\": [70000, 62000, 65000, 80000, 50000, 75000, 62000],\n",
        "    \"Experience\": [6, 4, 5, 7, 3, 8, 5]\n",
        "}\n",
        "df=pd.DataFrame(data)\n",
        "df.to_csv(\"harish.csv\")\n",
        "\n",
        "df=pd.read_csv(\"harish.csv\")\n",
        "a=df[(df[\"Department\"].isin([\"IT\",\"Finance\"]))&(df[\"Salary\"]>60000)&(df[\"Experience\"]>=5)]\n",
        "print(a)\n",
        "\n"
      ],
      "metadata": {
        "id": "mNAjEs0ktiqE",
        "colab": {
          "base_uri": "https://localhost:8080/"
        },
        "outputId": "65111160-89ea-4606-8823-3eae4d1dc9b0"
      },
      "id": "mNAjEs0ktiqE",
      "execution_count": null,
      "outputs": [
        {
          "output_type": "stream",
          "name": "stdout",
          "text": [
            "   Unnamed: 0  EmployeeID Department  Salary  Experience\n",
            "0           0           1         IT   70000           6\n",
            "2           2           3    Finance   65000           5\n",
            "3           3           4         IT   80000           7\n",
            "5           5           6    Finance   75000           8\n",
            "6           6           7         IT   62000           5\n"
          ]
        }
      ]
    },
    {
      "cell_type": "markdown",
      "source": [
        "15. Grouping & Aggregation with Multiple Conditions\n",
        "Given the following DataFrame:\n",
        "df = pd.DataFrame({\n",
        "    \"Department\": [\"IT\", \"HR\", \"IT\", \"Finance\", \"HR\", \"Finance\", \"IT\"],\n",
        "    \"Salary\": [70000, 50000, 80000, 60000, 52000, 72000, 65000],\n",
        "    \"Experience\": [5, 4, 7, 3, 2, 8, 6]\n",
        "})\n",
        "Task\n",
        "Find the average salary for each department, but only for employees with at least 5 years of experience."
      ],
      "metadata": {
        "id": "rGEGZs9ftKhN"
      },
      "id": "rGEGZs9ftKhN"
    },
    {
      "cell_type": "code",
      "source": [
        "df=pd.DataFrame({\"Department\": [\"IT\", \"HR\", \"IT\", \"Finance\", \"HR\", \"Finance\", \"IT\"],\n",
        "                   \"Salary\": [70000, 50000, 80000, 60000, 52000, 72000, 65000],\n",
        "                   \"Experience\": [5, 4, 7, 3, 2, 8, 6] })\n",
        "a=df[\"Experience\"]>=5\n",
        "b=df[a].groupby(\"Department\")[\"Salary\"].mean()\n",
        "print(b)"
      ],
      "metadata": {
        "colab": {
          "base_uri": "https://localhost:8080/"
        },
        "id": "-Lr2JW67tjtc",
        "outputId": "e5dfbdf0-77a3-46ac-c4c1-a013045bd3bd"
      },
      "id": "-Lr2JW67tjtc",
      "execution_count": null,
      "outputs": [
        {
          "output_type": "stream",
          "name": "stdout",
          "text": [
            "Department\n",
            "Finance    72000.000000\n",
            "IT         71666.666667\n",
            "Name: Salary, dtype: float64\n"
          ]
        }
      ]
    },
    {
      "cell_type": "markdown",
      "source": [
        "16. NumPy - Complex Indexing\n",
        "Create a 5x5 NumPy array with random values between 1 and 100.\n",
        "Write a NumPy command to:\n",
        "Extract only even numbers from the array.\n",
        "Extract values from the last row and last column.\n",
        "Replace all values greater than 50 with 0."
      ],
      "metadata": {
        "id": "YLnvhZeytQVl"
      },
      "id": "YLnvhZeytQVl"
    },
    {
      "cell_type": "code",
      "source": [
        "import numpy as np\n",
        "mat1=np.random.randint(1,101,size=(5,5))\n",
        "print(\"Random 5*5matrix:\",mat1,sep=\"\\n\")\n",
        "mat2=mat1[mat1 % 2 ==0]\n",
        "print(\"The even numbers in the matrix:\",mat2)\n",
        "\n",
        "a=(mat1[-1,])\n",
        "print(\"The last row in the matrix :\",a)\n",
        "b=(mat1[:,-1])\n",
        "print(\"The last column in the matrix :\",b)\n",
        "mat1[mat1 > 50]=0\n",
        "print(\"After changing the values greater the 50 to 0 :\",mat1,sep=\"\\n\")"
      ],
      "metadata": {
        "id": "24cBRhPitlIV",
        "colab": {
          "base_uri": "https://localhost:8080/"
        },
        "outputId": "cc7ed0a6-019c-4172-fd6a-ae50a01886af"
      },
      "id": "24cBRhPitlIV",
      "execution_count": null,
      "outputs": [
        {
          "output_type": "stream",
          "name": "stdout",
          "text": [
            "Random 5*5matrix:\n",
            "[[75 54 40 70 56]\n",
            " [10 41 74 75 57]\n",
            " [94 72 72 23 45]\n",
            " [16 80 67 37 58]\n",
            " [49 78 58 45 23]]\n",
            "The even numbers in the matrix: [54 40 70 56 10 74 94 72 72 16 80 58 78 58]\n",
            "The last row in the matrix : [49 78 58 45 23]\n",
            "The last column in the matrix : [56 57 45 58 23]\n",
            "After changing the values greater the 50 to 0 :\n",
            "[[ 0  0 40  0  0]\n",
            " [10 41  0  0  0]\n",
            " [ 0  0  0 23 45]\n",
            " [16  0  0 37  0]\n",
            " [49  0  0 45 23]]\n"
          ]
        }
      ]
    },
    {
      "cell_type": "markdown",
      "source": [
        "17. Matrix Multiplication\n",
        "Given the two NumPy matrices:\n",
        "A = np.array([[2, 4], [6, 8]])\n",
        "B = np.array([[1, 3], [5, 7]])\n",
        "Task\n",
        "Perform matrix multiplication and output the result.\n"
      ],
      "metadata": {
        "id": "4LsCfaGQtRvV"
      },
      "id": "4LsCfaGQtRvV"
    },
    {
      "cell_type": "code",
      "source": [
        "A = np.array([[2, 4], [6, 8]])\n",
        "B = np.array([[1, 3], [5, 7]])\n",
        "c=A*B\n",
        "print(c)"
      ],
      "metadata": {
        "id": "zl6bLeattlvN",
        "colab": {
          "base_uri": "https://localhost:8080/"
        },
        "outputId": "f013d1d5-cf22-4896-9d9c-507edd4be4df"
      },
      "id": "zl6bLeattlvN",
      "execution_count": null,
      "outputs": [
        {
          "output_type": "stream",
          "name": "stdout",
          "text": [
            "[[ 2 12]\n",
            " [30 56]]\n"
          ]
        }
      ]
    },
    {
      "cell_type": "markdown",
      "source": [
        "18. Finding Unique & Common Elements\n",
        "You are given two NumPy arrays:\n",
        "arr1 = np.array([10, 20, 30, 40, 50, 60])\n",
        "arr2 = np.array([30, 40, 70, 80, 90])\n",
        "Task\n",
        "Find the elements that are common in both arrays.\n",
        "Find the elements that are only present in arr1 but not in arr2."
      ],
      "metadata": {
        "id": "WB0XFWpMtViV"
      },
      "id": "WB0XFWpMtViV"
    },
    {
      "cell_type": "code",
      "source": [
        "import numpy as np\n",
        "arr1 = np.array([10, 20, 30, 40, 50, 60])\n",
        "arr2 = np.array([30, 40, 70, 80, 90])\n",
        "print(np.intersect1d(arr1,arr2))\n",
        "print(np.setdiff1d(arr1,arr2))\n"
      ],
      "metadata": {
        "id": "XL0xoNQ9tnbU",
        "colab": {
          "base_uri": "https://localhost:8080/"
        },
        "outputId": "80fc45ba-4098-4bee-dc7c-09df4c134f54"
      },
      "id": "XL0xoNQ9tnbU",
      "execution_count": null,
      "outputs": [
        {
          "output_type": "stream",
          "name": "stdout",
          "text": [
            "[30 40]\n",
            "[10 20 50 60]\n"
          ]
        }
      ]
    },
    {
      "cell_type": "markdown",
      "source": [
        "19. Sorting & Ranking in Pandas\n",
        "You are given the following DataFrame:\n",
        "df = pd.DataFrame({\n",
        "    \"Player\": [\"A\", \"B\", \"C\", \"D\"],\n",
        "    \"Score\": [200, 450, 300, 150]\n",
        "})\n",
        "Task\n",
        "Sort the players by descending Score.\n",
        "Assign ranking to each player (1st, 2nd, 3rd...) without skipping numbers."
      ],
      "metadata": {
        "id": "MmZzeMQftY19"
      },
      "id": "MmZzeMQftY19"
    },
    {
      "cell_type": "code",
      "source": [
        "import pandas as pd\n",
        "df=pd.DataFrame({ \"Player\": [\"A\", \"B\", \"C\", \"D\"],\"Score\": [200, 450, 300, 150] })\n",
        "df_sorted=df.sort_values(\"Score\",ascending=False)\n",
        "df_sorted[\"Rank\"]=df_sorted[\"Score\"].rank(ascending=False).astype(int)\n",
        "print(df_sorted)\n"
      ],
      "metadata": {
        "id": "OmVpsfY6toZ0",
        "colab": {
          "base_uri": "https://localhost:8080/"
        },
        "outputId": "eb8b519e-b305-4bc2-b3b5-3b23240b0a71"
      },
      "id": "OmVpsfY6toZ0",
      "execution_count": null,
      "outputs": [
        {
          "output_type": "stream",
          "name": "stdout",
          "text": [
            "  Player  Score  Rank\n",
            "1      B    450     1\n",
            "2      C    300     2\n",
            "0      A    200     3\n",
            "3      D    150     4\n"
          ]
        }
      ]
    },
    {
      "cell_type": "markdown",
      "source": [
        "20. Optimizing Pandas Performance\n",
        "You have a large CSV file (\"big_data.csv\") with 1 million rows.\n",
        "Note: You should search & download a large csv file from any portal & use it to perform below tasks\n",
        "Task\n",
        "Write optimized Pandas code to:\n",
        "Load only specific columns: \"CustomerID\" and \"PurchaseAmount\".\n",
        "Load only the first 100,000 rows.\n",
        "Use an efficient data type for \"CustomerID\" to save memory."
      ],
      "metadata": {
        "id": "bzuWhnKwtbxV"
      },
      "id": "bzuWhnKwtbxV"
    },
    {
      "cell_type": "code",
      "source": [],
      "metadata": {
        "id": "8P8kijSHtpUk"
      },
      "id": "8P8kijSHtpUk",
      "execution_count": null,
      "outputs": []
    }
  ],
  "metadata": {
    "kernelspec": {
      "display_name": "Python 3 (ipykernel)",
      "language": "python",
      "name": "python3"
    },
    "language_info": {
      "codemirror_mode": {
        "name": "ipython",
        "version": 3
      },
      "file_extension": ".py",
      "mimetype": "text/x-python",
      "name": "python",
      "nbconvert_exporter": "python",
      "pygments_lexer": "ipython3",
      "version": "3.11.7"
    },
    "colab": {
      "provenance": [],
      "include_colab_link": true
    }
  },
  "nbformat": 4,
  "nbformat_minor": 5
}