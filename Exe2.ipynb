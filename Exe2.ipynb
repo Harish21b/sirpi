{
  "cells": [
    {
      "cell_type": "markdown",
      "metadata": {
        "id": "view-in-github",
        "colab_type": "text"
      },
      "source": [
        "<a href=\"https://colab.research.google.com/github/Harish21b/sirpi/blob/main/Exe2.ipynb\" target=\"_parent\"><img src=\"https://colab.research.google.com/assets/colab-badge.svg\" alt=\"Open In Colab\"/></a>"
      ]
    },
    {
      "cell_type": "markdown",
      "source": [
        "1. Variables and Data Types\n",
        "Write a Python program that swaps two numbers without using a third variable."
      ],
      "metadata": {
        "id": "7I0ZXHP46uvA"
      },
      "id": "7I0ZXHP46uvA"
    },
    {
      "cell_type": "code",
      "source": [
        "a=10\n",
        "b=20\n",
        "print(\"before swaapping\",a,b)\n",
        "a,b=b,a\n",
        "print(\"after swapping\",a,b)\n",
        "\n",
        "\n",
        "x=30\n",
        "y=40\n",
        "x=x+y\n",
        "y=x-y\n",
        "x=x-y\n",
        "print(x)\n",
        "print(y)"
      ],
      "metadata": {
        "colab": {
          "base_uri": "https://localhost:8080/"
        },
        "id": "DpiPpDRD60FK",
        "outputId": "6d511b4c-885c-4d44-fdcd-f0a44377aa3a"
      },
      "id": "DpiPpDRD60FK",
      "execution_count": null,
      "outputs": [
        {
          "output_type": "stream",
          "name": "stdout",
          "text": [
            "before swaapping 10 20\n",
            "after swapping 20 10\n",
            "40\n",
            "30\n"
          ]
        }
      ]
    },
    {
      "cell_type": "markdown",
      "source": [
        "2. Lists - Nested Lists\n",
        "You have a nested list:\n",
        "data = [[1, 2, 3], [4, 5, 6], [7, 8, 9]]\n",
        "a) Extract and print the middle element from the nested list.\n",
        "b) Flatten the list into a single list [1, 2, 3, 4, 5, 6, 7, 8, 9] without using loops."
      ],
      "metadata": {
        "id": "Lg8iUxk_8-V3"
      },
      "id": "Lg8iUxk_8-V3"
    },
    {
      "cell_type": "code",
      "source": [
        "data =[[1, 2, 3],[4, 5, 6],[7, 8, 9]]\n",
        "print(data[1][1])\n",
        "print(data[0]+data[1]+data[2])"
      ],
      "metadata": {
        "colab": {
          "base_uri": "https://localhost:8080/"
        },
        "id": "P6WhwEH7xqkv",
        "outputId": "b55e3016-0f99-4cf3-879b-3fd3f51569c9"
      },
      "id": "P6WhwEH7xqkv",
      "execution_count": null,
      "outputs": [
        {
          "output_type": "stream",
          "name": "stdout",
          "text": [
            "5\n",
            "[1, 2, 3, 4, 5, 6, 7, 8, 9]\n"
          ]
        }
      ]
    },
    {
      "cell_type": "markdown",
      "source": [
        "3. Tuples - Tuple Unpacking\n",
        "Given:\n",
        "values = (100, 200, 300)\n",
        "a) Unpack this tuple into three variables and print them.\n",
        "b) Swap the values without using a temporary variable."
      ],
      "metadata": {
        "id": "8B1J23diyPJ2"
      },
      "id": "8B1J23diyPJ2"
    },
    {
      "cell_type": "code",
      "source": [
        "values=(100, 200, 300)\n",
        "x=values[0]\n",
        "y=values[1]\n",
        "z=values[2]\n",
        "print(x,y,z)\n",
        "x,y,z=z,x,y\n",
        "print(x,y,z)"
      ],
      "metadata": {
        "colab": {
          "base_uri": "https://localhost:8080/"
        },
        "id": "MFRsBAG6yQUm",
        "outputId": "d567b220-282a-46ee-e4e6-8a4151d4e06c"
      },
      "id": "MFRsBAG6yQUm",
      "execution_count": null,
      "outputs": [
        {
          "output_type": "stream",
          "name": "stdout",
          "text": [
            "100 200 300\n",
            "300 100 200\n"
          ]
        }
      ]
    },
    {
      "cell_type": "markdown",
      "source": [
        "4. Dictionary - Complex Keys\n",
        "Create a dictionary where:\n",
        "Keys are tuples representing (x, y) coordinates.\n",
        "Values are the sum of x and y.\n",
        "Example:\n",
        "{ (1,2): 3, (3,4): 7, (5,6): 11 }\n",
        "Write a function to retrieve the sum for a given coordinate.\n"
      ],
      "metadata": {
        "id": "YjRzQLQdzZ7T"
      },
      "id": "YjRzQLQdzZ7T"
    },
    {
      "cell_type": "markdown",
      "source": [],
      "metadata": {
        "id": "kxCAD1Rp5bGO"
      },
      "id": "kxCAD1Rp5bGO"
    },
    {
      "cell_type": "code",
      "source": [
        "def dictaddition(x,y):\n",
        "  dict2[x,y]=x+y\n",
        "  dict3=dict2\n",
        "  return dict3\n",
        "\n",
        "dict3={}\n",
        "dict2={}\n",
        "s=[]\n",
        "for i in range(0,5):\n",
        "  j=int(input(\"enter x coordinate value \"))\n",
        "  h=int(input(\"enter y coordinate value \"))\n",
        "  o=[]\n",
        "  o.append(j)\n",
        "  o.append(h)\n",
        "  s.append(tuple(o))\n",
        "  #print(s)\n",
        "a={}\n",
        "for i in s:\n",
        "  a=dictaddition(i[0],i[1])\n",
        "print(a)"
      ],
      "metadata": {
        "colab": {
          "base_uri": "https://localhost:8080/"
        },
        "id": "oK2XAzbbza6T",
        "outputId": "30b1220e-e300-46e0-b5ba-7c907b29f308"
      },
      "id": "oK2XAzbbza6T",
      "execution_count": null,
      "outputs": [
        {
          "output_type": "stream",
          "name": "stdout",
          "text": [
            "enter x coordinate value 1\n",
            "enter y coordinate value 2\n",
            "enter x coordinate value 3\n",
            "enter y coordinate value 4\n",
            "enter x coordinate value 5\n",
            "enter y coordinate value 6\n",
            "enter x coordinate value 7\n",
            "enter y coordinate value 8\n",
            "enter x coordinate value 9\n",
            "enter y coordinate value 0\n",
            "{(1, 2): 3, (3, 4): 7, (5, 6): 11, (7, 8): 15, (9, 0): 9}\n"
          ]
        }
      ]
    },
    {
      "cell_type": "markdown",
      "source": [
        "5. Functions - Nested Functions\n",
        "Write a function outer_function(a, b) that:\n",
        "Contains an inner function to calculate a² + b².\n",
        "Returns the result.\n",
        "Call outer_function(3, 4) and print the result.\n"
      ],
      "metadata": {
        "id": "liPz68chSt5v"
      },
      "id": "liPz68chSt5v"
    },
    {
      "cell_type": "code",
      "source": [
        "def outer_fun(a,b):\n",
        "  def inner_fun(a,b):\n",
        "    c=(a*a)+(b*b)\n",
        "    return c\n",
        "  return inner_fun(a,b)\n",
        "\n",
        "\n",
        "x=outer_fun(3,4)\n",
        "print(x)\n",
        "\n"
      ],
      "metadata": {
        "colab": {
          "base_uri": "https://localhost:8080/"
        },
        "id": "8euD7-YnS660",
        "outputId": "373d775d-9664-40f6-ba01-40a09c5d0e5d"
      },
      "id": "8euD7-YnS660",
      "execution_count": null,
      "outputs": [
        {
          "output_type": "stream",
          "name": "stdout",
          "text": [
            "25\n"
          ]
        }
      ]
    },
    {
      "cell_type": "markdown",
      "source": [
        "6. Functions - Lambda & Map\n",
        "You are given a list:\n",
        "numbers = [1, 2, 3, 4, 5]\n",
        "Use a lambda function and map() to generate a list where each number is cubed."
      ],
      "metadata": {
        "id": "jaWP4jq5YOMB"
      },
      "id": "jaWP4jq5YOMB"
    },
    {
      "cell_type": "code",
      "source": [
        "a=[1,2,3,4,5]\n",
        "x=list(map(lambda q:q**3,a))\n",
        "print(\"after cubing\",x)\n"
      ],
      "metadata": {
        "colab": {
          "base_uri": "https://localhost:8080/"
        },
        "id": "9SBkFecOYQW3",
        "outputId": "827bed3c-4b42-4a00-cdea-ae62b08a960f"
      },
      "id": "9SBkFecOYQW3",
      "execution_count": null,
      "outputs": [
        {
          "output_type": "stream",
          "name": "stdout",
          "text": [
            "after cubing [1, 8, 27, 64, 125]\n"
          ]
        }
      ]
    },
    {
      "cell_type": "markdown",
      "source": [
        "7. Functions - Recursion\n",
        "Write a recursive function to calculate the sum of digits of a given number.\n",
        "Example:\n",
        "Input: 1234\n",
        "Output: 10  (1+2+3+4)\n"
      ],
      "metadata": {
        "id": "Yci3OvmZsbNI"
      },
      "id": "Yci3OvmZsbNI"
    },
    {
      "cell_type": "code",
      "source": [
        "def digit_sum(x):\n",
        "    sum=0\n",
        "    if(x>9):\n",
        "        sum=sum+(x%10)\n",
        "        return sum+digit_sum(int(x/10))\n",
        "    else:\n",
        "        return x\n",
        "\n",
        "a=int(input(\"enter a value :\"))\n",
        "print(digit_sum(a))"
      ],
      "metadata": {
        "id": "EM36St4usd0W"
      },
      "id": "EM36St4usd0W",
      "execution_count": null,
      "outputs": []
    },
    {
      "cell_type": "markdown",
      "source": [
        "8. List Comprehensions\n",
        "Generate a list of all numbers between 1 and 100 that:\n",
        "Are divisible by 5\n",
        "But not by 3\n",
        "Use list comprehension."
      ],
      "metadata": {
        "id": "iRly8cBaxCYc"
      },
      "id": "iRly8cBaxCYc"
    },
    {
      "cell_type": "code",
      "execution_count": null,
      "id": "f63e58e7-dd27-4b0a-9f78-1bfe7238e603",
      "metadata": {
        "id": "f63e58e7-dd27-4b0a-9f78-1bfe7238e603",
        "outputId": "9fd8d30f-48f1-48f3-cd3c-7bc79fbec820",
        "colab": {
          "base_uri": "https://localhost:8080/"
        }
      },
      "outputs": [
        {
          "output_type": "stream",
          "name": "stdout",
          "text": [
            "[5, 10, 20, 25, 35, 40, 50, 55, 65, 70, 80, 85, 95]\n"
          ]
        }
      ],
      "source": [
        "num=[i for i in range(1,100) if i%5==0 and i%3!=0]\n",
        "print(num)"
      ]
    },
    {
      "cell_type": "code",
      "execution_count": null,
      "id": "3145225a-17e3-4f2d-bcc4-d5d73f343e2b",
      "metadata": {
        "id": "3145225a-17e3-4f2d-bcc4-d5d73f343e2b",
        "outputId": "1cd0f92f-b3cc-4d26-cba2-d5c50b64ebae"
      },
      "outputs": [
        {
          "name": "stdout",
          "output_type": "stream",
          "text": [
            "[1, 8, 27, 64, 125, 216, 343, 512, 729]\n"
          ]
        }
      ],
      "source": [
        "num=[i**3 for i in range(1,10)]\n",
        "print(num)"
      ]
    },
    {
      "cell_type": "code",
      "execution_count": null,
      "id": "b14b5ecb-c757-4a30-ae19-e2215cc442e3",
      "metadata": {
        "id": "b14b5ecb-c757-4a30-ae19-e2215cc442e3",
        "outputId": "8a518090-014e-4976-a740-f463bdb6b013"
      },
      "outputs": [
        {
          "name": "stdout",
          "output_type": "stream",
          "text": [
            "False\n"
          ]
        }
      ],
      "source": [
        "val= True  if (11%2==0) else False\n",
        "print(val)"
      ]
    },
    {
      "cell_type": "markdown",
      "source": [
        "9. Dictionary - Sorting by Values\n",
        "Given:\n",
        "scores = {\"Alice\": 90, \"Bob\": 85, \"Eve\": 92}\n",
        "Sort this dictionary by values in descending order and print the result."
      ],
      "metadata": {
        "id": "tNOFnubcxdLR"
      },
      "id": "tNOFnubcxdLR"
    },
    {
      "cell_type": "code",
      "execution_count": null,
      "id": "398eb7b8-da01-4f60-8fdf-bdd59fd4b1c9",
      "metadata": {
        "id": "398eb7b8-da01-4f60-8fdf-bdd59fd4b1c9",
        "outputId": "f0d212c1-dca0-4c2e-b2c2-f60938f8f5d8",
        "colab": {
          "base_uri": "https://localhost:8080/"
        }
      },
      "outputs": [
        {
          "output_type": "stream",
          "name": "stdout",
          "text": [
            "{'Eve': 92, 'Alice': 90, 'Bob': 85}\n"
          ]
        }
      ],
      "source": [
        "scores={\"Alice\":90,\"Bob\":85,\"Eve\":92}\n",
        "b=dict(sorted(scores.items(),key=lambda i:i[1],reverse=True))\n",
        "print(b)"
      ]
    },
    {
      "cell_type": "code",
      "execution_count": null,
      "id": "708b06f7-7244-42b3-a36d-c911a106b536",
      "metadata": {
        "id": "708b06f7-7244-42b3-a36d-c911a106b536",
        "outputId": "4d7753cf-2f3d-402d-df66-f86edb106c0c",
        "colab": {
          "base_uri": "https://localhost:8080/"
        }
      },
      "outputs": [
        {
          "output_type": "stream",
          "name": "stdout",
          "text": [
            "{'eve': 92, 'bob': 85, 'baba': 100, 'alice': 90}\n"
          ]
        }
      ],
      "source": [
        "di={\"alice\":90,\"bob\":85,\"eve\":92,\"baba\":100}\n",
        "sorted_dict=dict(sorted(di.items(),key=lambda i:i[0],reverse=True))\n",
        "print(sorted_dict)"
      ]
    },
    {
      "cell_type": "markdown",
      "source": [
        "10. Sets - Unique Characters\n",
        "Write a Python function that takes a string as input and returns:\n",
        "A set of unique characters in the string.\n",
        "The number of unique characters.\n",
        "Example:\n",
        "Input: \"hello\"\n",
        "Output: {'h', 'e', 'l', 'o'}, 4\n"
      ],
      "metadata": {
        "id": "1Fh7BMvIm1To"
      },
      "id": "1Fh7BMvIm1To"
    },
    {
      "cell_type": "code",
      "source": [
        "def unique(a):\n",
        "  c=set(a)\n",
        "  d=len(c)\n",
        "  return c,d\n",
        "b=\"hello\"\n",
        "unique_val,len_unique_val=(unique(b))\n",
        "print(unique_val,len_unique_val)"
      ],
      "metadata": {
        "colab": {
          "base_uri": "https://localhost:8080/"
        },
        "id": "rZfX230AnCql",
        "outputId": "625ade93-e2a2-492e-b3bf-60d297162c1d"
      },
      "id": "rZfX230AnCql",
      "execution_count": null,
      "outputs": [
        {
          "output_type": "stream",
          "name": "stdout",
          "text": [
            "{'e', 'l', 'o', 'h'} 4\n"
          ]
        }
      ]
    },
    {
      "cell_type": "markdown",
      "source": [
        "11. Tuples - Finding Common Elements\n",
        "Given two tuples:\n",
        "t1 = (1, 2, 3, 4, 5)\n",
        "t2 = (4, 5, 6, 7, 8)\n",
        "Find and print the common elements."
      ],
      "metadata": {
        "id": "vu3Aw-tW2JoV"
      },
      "id": "vu3Aw-tW2JoV"
    },
    {
      "cell_type": "code",
      "source": [
        "t1=set((1, 2, 3, 4, 5))\n",
        "t2=set((4, 5, 6, 7, 8))\n",
        "t1.intersection(t2)"
      ],
      "metadata": {
        "colab": {
          "base_uri": "https://localhost:8080/"
        },
        "id": "KUY7yPtP2Qm7",
        "outputId": "16fe369d-1cba-45f6-d4c2-695dbd9e6afe"
      },
      "id": "KUY7yPtP2Qm7",
      "execution_count": null,
      "outputs": [
        {
          "output_type": "execute_result",
          "data": {
            "text/plain": [
              "{4, 5}"
            ]
          },
          "metadata": {},
          "execution_count": 37
        }
      ]
    },
    {
      "cell_type": "markdown",
      "source": [
        "12. Dictionary - Reverse Key-Value Mapping\n",
        "Given a dictionary:\n",
        "data = {\"A\": 1, \"B\": 2, \"C\": 3}\n",
        "Write a program to swap keys and values:\n",
        "Output: {1: \"A\", 2: \"B\", 3: \"C\"}\n"
      ],
      "metadata": {
        "id": "l_AeirNg3hH7"
      },
      "id": "l_AeirNg3hH7"
    },
    {
      "cell_type": "code",
      "source": [
        "data = {\"A\": 1, \"B\": 2, \"C\": 3}\n",
        "reversed_data = {value: key for key,value in data.items()}\n",
        "print(reversed_data)  # Output: {1: 'A', 2: 'B', 3: 'C'}"
      ],
      "metadata": {
        "colab": {
          "base_uri": "https://localhost:8080/"
        },
        "id": "8RApzbXX3ivE",
        "outputId": "97b0d28b-ab80-4e77-815f-a1bbe13f5d27"
      },
      "id": "8RApzbXX3ivE",
      "execution_count": null,
      "outputs": [
        {
          "output_type": "stream",
          "name": "stdout",
          "text": [
            "{1: 'A', 2: 'B', 3: 'C'}\n"
          ]
        }
      ]
    },
    {
      "cell_type": "markdown",
      "source": [
        "13. Functions - Multiple Return Values\n",
        "Write a function that takes two numbers as input and returns:\n",
        "Their sum\n",
        "Their difference\n",
        "Their product\n",
        "Their quotient\n",
        "Print all four results.\n"
      ],
      "metadata": {
        "id": "vknCwXPMCgKd"
      },
      "id": "vknCwXPMCgKd"
    },
    {
      "cell_type": "code",
      "source": [
        "def calc(a,b):\n",
        "  c=a+b\n",
        "  d=a-b\n",
        "  e=a*b\n",
        "  f=a/b\n",
        "  return c,d,e,f\n",
        "\n",
        "x,y,z,o=calc(10,2)\n",
        "print(x,y,z,o)\n"
      ],
      "metadata": {
        "colab": {
          "base_uri": "https://localhost:8080/"
        },
        "id": "fsIEP0iKCheo",
        "outputId": "38f80fe2-921f-4ab8-9d82-c54d9aef8316"
      },
      "id": "fsIEP0iKCheo",
      "execution_count": null,
      "outputs": [
        {
          "output_type": "stream",
          "name": "stdout",
          "text": [
            "12 8 20 5.0\n"
          ]
        }
      ]
    },
    {
      "cell_type": "markdown",
      "source": [
        "14. List - Finding Second Largest Number\n",
        "Write a function to find the second largest number in a given list without using sort().\n",
        "Example:\n",
        "Input: [10, 20, 4, 45, 99]\n",
        "Output: 45\n"
      ],
      "metadata": {
        "id": "6EOp-0P8DwXX"
      },
      "id": "6EOp-0P8DwXX"
    },
    {
      "cell_type": "code",
      "source": [
        "a=[77,10,20,4,45,99,66,33]\n",
        "max_h=a[0]\n",
        "max_s=a[0]\n",
        "for i in range(0,(len(a))):\n",
        "  if (a[i]>max_h):\n",
        "    max_h=a[i]\n",
        "  if(a[i]>max_s and a[i]!=max_h):\n",
        "    max_s=a[i]\n",
        "print(max_s)\n"
      ],
      "metadata": {
        "id": "sOWZLbPKDxic",
        "colab": {
          "base_uri": "https://localhost:8080/"
        },
        "outputId": "b5667d74-8adb-419a-f959-0f69497e87f7"
      },
      "id": "sOWZLbPKDxic",
      "execution_count": null,
      "outputs": [
        {
          "output_type": "stream",
          "name": "stdout",
          "text": [
            "77\n"
          ]
        }
      ]
    },
    {
      "cell_type": "markdown",
      "source": [
        "15. List - Pair Sum Problem\n",
        "Given a list of numbers and a target sum, find all pairs in the list that add up to the target.\n",
        "Example:\n",
        "Input: [2, 4, 3, 7, 1, 9], Target: 10\n",
        "Output: [(3, 7), (1, 9)]\n"
      ],
      "metadata": {
        "id": "SrUKJwExrFvX"
      },
      "id": "SrUKJwExrFvX"
    },
    {
      "cell_type": "code",
      "source": [
        "input=[2,3,4,7,1,9,6]\n",
        "target=10\n",
        "temp=0\n",
        "output=[]\n",
        "for i in range(0,(len(input))):\n",
        "  for j in range(i+1,len(input)):\n",
        "    temp=input[i]+input[j]\n",
        "    if(temp==target):\n",
        "      output.append((input[i],input[j]))\n",
        "print(output)"
      ],
      "metadata": {
        "colab": {
          "base_uri": "https://localhost:8080/"
        },
        "id": "qyqB-P1WrKJA",
        "outputId": "81b5da09-1de0-4fb6-c91d-d687fbd2ee11"
      },
      "id": "qyqB-P1WrKJA",
      "execution_count": null,
      "outputs": [
        {
          "output_type": "stream",
          "name": "stdout",
          "text": [
            "[(3, 7), (4, 6), (1, 9)]\n"
          ]
        }
      ]
    },
    {
      "cell_type": "markdown",
      "source": [
        "Pandas & NumPy (5 Questions)\n",
        "16. Pandas - Filtering DataFrame\n",
        "You are given the following Pandas DataFrame:\n",
        "import pandas as pd\n",
        "df = pd.DataFrame({\n",
        "    \"Name\": [\"Alice\", \"Bob\", \"Charlie\", \"David\"],\n",
        "    \"Age\": [24, 27, 22, 32],\n",
        "    \"Score\": [85, 90, 78, 88]\n",
        "})\n",
        "Write a one-liner to filter and display only rows where Age is greater than 25."
      ],
      "metadata": {
        "id": "EL7O8jsGtkjT"
      },
      "id": "EL7O8jsGtkjT"
    },
    {
      "cell_type": "code",
      "source": [
        "import pandas as pd\n",
        "df = pd.DataFrame({\"Name\":[\"Alice\",\"Bob\",\"Charlie\",\"David\"],\"Age\":[24, 27, 22, 32],\"Score\":[85, 90, 78, 88]})\n",
        "print(df[df['Age']>25])"
      ],
      "metadata": {
        "colab": {
          "base_uri": "https://localhost:8080/"
        },
        "id": "U5JW-8jutltz",
        "outputId": "6dfa2927-59d6-43bf-dc73-5d87ac59a767"
      },
      "id": "U5JW-8jutltz",
      "execution_count": null,
      "outputs": [
        {
          "output_type": "stream",
          "name": "stdout",
          "text": [
            "    Name  Age  Score\n",
            "1    Bob   27     90\n",
            "3  David   32     88\n"
          ]
        }
      ]
    },
    {
      "cell_type": "markdown",
      "source": [
        "17. Pandas - Group By Operation\n",
        "You have the following DataFrame:\n",
        "df = pd.DataFrame({\n",
        "    \"Department\": [\"IT\", \"HR\", \"IT\", \"Finance\", \"HR\"],\n",
        "    \"Salary\": [70000, 50000, 80000, 60000, 52000]\n",
        "})\n",
        "Write a Pandas command to calculate the average salary per department."
      ],
      "metadata": {
        "id": "iNyFgvEPudey"
      },
      "id": "iNyFgvEPudey"
    },
    {
      "cell_type": "code",
      "source": [
        "df =pd.DataFrame({\"Department\": [\"IT\", \"HR\", \"IT\", \"Finance\", \"HR\"], \"Salary\":[70000, 50000, 80000, 60000, 52000],\"age\":[22,23,33,40,34]})\n",
        "df.groupby('Department').mean()"
      ],
      "metadata": {
        "colab": {
          "base_uri": "https://localhost:8080/",
          "height": 175
        },
        "id": "Op3b_7akuemS",
        "outputId": "b44261fd-0ef8-4499-f384-3b38dcee7f1a"
      },
      "id": "Op3b_7akuemS",
      "execution_count": null,
      "outputs": [
        {
          "output_type": "execute_result",
          "data": {
            "text/plain": [
              "             Salary   age\n",
              "Department               \n",
              "Finance     60000.0  40.0\n",
              "HR          51000.0  28.5\n",
              "IT          75000.0  27.5"
            ],
            "text/html": [
              "\n",
              "  <div id=\"df-ada1086d-1caf-4053-a8be-907e64f796e7\" class=\"colab-df-container\">\n",
              "    <div>\n",
              "<style scoped>\n",
              "    .dataframe tbody tr th:only-of-type {\n",
              "        vertical-align: middle;\n",
              "    }\n",
              "\n",
              "    .dataframe tbody tr th {\n",
              "        vertical-align: top;\n",
              "    }\n",
              "\n",
              "    .dataframe thead th {\n",
              "        text-align: right;\n",
              "    }\n",
              "</style>\n",
              "<table border=\"1\" class=\"dataframe\">\n",
              "  <thead>\n",
              "    <tr style=\"text-align: right;\">\n",
              "      <th></th>\n",
              "      <th>Salary</th>\n",
              "      <th>age</th>\n",
              "    </tr>\n",
              "    <tr>\n",
              "      <th>Department</th>\n",
              "      <th></th>\n",
              "      <th></th>\n",
              "    </tr>\n",
              "  </thead>\n",
              "  <tbody>\n",
              "    <tr>\n",
              "      <th>Finance</th>\n",
              "      <td>60000.0</td>\n",
              "      <td>40.0</td>\n",
              "    </tr>\n",
              "    <tr>\n",
              "      <th>HR</th>\n",
              "      <td>51000.0</td>\n",
              "      <td>28.5</td>\n",
              "    </tr>\n",
              "    <tr>\n",
              "      <th>IT</th>\n",
              "      <td>75000.0</td>\n",
              "      <td>27.5</td>\n",
              "    </tr>\n",
              "  </tbody>\n",
              "</table>\n",
              "</div>\n",
              "    <div class=\"colab-df-buttons\">\n",
              "\n",
              "  <div class=\"colab-df-container\">\n",
              "    <button class=\"colab-df-convert\" onclick=\"convertToInteractive('df-ada1086d-1caf-4053-a8be-907e64f796e7')\"\n",
              "            title=\"Convert this dataframe to an interactive table.\"\n",
              "            style=\"display:none;\">\n",
              "\n",
              "  <svg xmlns=\"http://www.w3.org/2000/svg\" height=\"24px\" viewBox=\"0 -960 960 960\">\n",
              "    <path d=\"M120-120v-720h720v720H120Zm60-500h600v-160H180v160Zm220 220h160v-160H400v160Zm0 220h160v-160H400v160ZM180-400h160v-160H180v160Zm440 0h160v-160H620v160ZM180-180h160v-160H180v160Zm440 0h160v-160H620v160Z\"/>\n",
              "  </svg>\n",
              "    </button>\n",
              "\n",
              "  <style>\n",
              "    .colab-df-container {\n",
              "      display:flex;\n",
              "      gap: 12px;\n",
              "    }\n",
              "\n",
              "    .colab-df-convert {\n",
              "      background-color: #E8F0FE;\n",
              "      border: none;\n",
              "      border-radius: 50%;\n",
              "      cursor: pointer;\n",
              "      display: none;\n",
              "      fill: #1967D2;\n",
              "      height: 32px;\n",
              "      padding: 0 0 0 0;\n",
              "      width: 32px;\n",
              "    }\n",
              "\n",
              "    .colab-df-convert:hover {\n",
              "      background-color: #E2EBFA;\n",
              "      box-shadow: 0px 1px 2px rgba(60, 64, 67, 0.3), 0px 1px 3px 1px rgba(60, 64, 67, 0.15);\n",
              "      fill: #174EA6;\n",
              "    }\n",
              "\n",
              "    .colab-df-buttons div {\n",
              "      margin-bottom: 4px;\n",
              "    }\n",
              "\n",
              "    [theme=dark] .colab-df-convert {\n",
              "      background-color: #3B4455;\n",
              "      fill: #D2E3FC;\n",
              "    }\n",
              "\n",
              "    [theme=dark] .colab-df-convert:hover {\n",
              "      background-color: #434B5C;\n",
              "      box-shadow: 0px 1px 3px 1px rgba(0, 0, 0, 0.15);\n",
              "      filter: drop-shadow(0px 1px 2px rgba(0, 0, 0, 0.3));\n",
              "      fill: #FFFFFF;\n",
              "    }\n",
              "  </style>\n",
              "\n",
              "    <script>\n",
              "      const buttonEl =\n",
              "        document.querySelector('#df-ada1086d-1caf-4053-a8be-907e64f796e7 button.colab-df-convert');\n",
              "      buttonEl.style.display =\n",
              "        google.colab.kernel.accessAllowed ? 'block' : 'none';\n",
              "\n",
              "      async function convertToInteractive(key) {\n",
              "        const element = document.querySelector('#df-ada1086d-1caf-4053-a8be-907e64f796e7');\n",
              "        const dataTable =\n",
              "          await google.colab.kernel.invokeFunction('convertToInteractive',\n",
              "                                                    [key], {});\n",
              "        if (!dataTable) return;\n",
              "\n",
              "        const docLinkHtml = 'Like what you see? Visit the ' +\n",
              "          '<a target=\"_blank\" href=https://colab.research.google.com/notebooks/data_table.ipynb>data table notebook</a>'\n",
              "          + ' to learn more about interactive tables.';\n",
              "        element.innerHTML = '';\n",
              "        dataTable['output_type'] = 'display_data';\n",
              "        await google.colab.output.renderOutput(dataTable, element);\n",
              "        const docLink = document.createElement('div');\n",
              "        docLink.innerHTML = docLinkHtml;\n",
              "        element.appendChild(docLink);\n",
              "      }\n",
              "    </script>\n",
              "  </div>\n",
              "\n",
              "\n",
              "<div id=\"df-4ee46386-ea14-4297-9088-edf1b3645bc3\">\n",
              "  <button class=\"colab-df-quickchart\" onclick=\"quickchart('df-4ee46386-ea14-4297-9088-edf1b3645bc3')\"\n",
              "            title=\"Suggest charts\"\n",
              "            style=\"display:none;\">\n",
              "\n",
              "<svg xmlns=\"http://www.w3.org/2000/svg\" height=\"24px\"viewBox=\"0 0 24 24\"\n",
              "     width=\"24px\">\n",
              "    <g>\n",
              "        <path d=\"M19 3H5c-1.1 0-2 .9-2 2v14c0 1.1.9 2 2 2h14c1.1 0 2-.9 2-2V5c0-1.1-.9-2-2-2zM9 17H7v-7h2v7zm4 0h-2V7h2v10zm4 0h-2v-4h2v4z\"/>\n",
              "    </g>\n",
              "</svg>\n",
              "  </button>\n",
              "\n",
              "<style>\n",
              "  .colab-df-quickchart {\n",
              "      --bg-color: #E8F0FE;\n",
              "      --fill-color: #1967D2;\n",
              "      --hover-bg-color: #E2EBFA;\n",
              "      --hover-fill-color: #174EA6;\n",
              "      --disabled-fill-color: #AAA;\n",
              "      --disabled-bg-color: #DDD;\n",
              "  }\n",
              "\n",
              "  [theme=dark] .colab-df-quickchart {\n",
              "      --bg-color: #3B4455;\n",
              "      --fill-color: #D2E3FC;\n",
              "      --hover-bg-color: #434B5C;\n",
              "      --hover-fill-color: #FFFFFF;\n",
              "      --disabled-bg-color: #3B4455;\n",
              "      --disabled-fill-color: #666;\n",
              "  }\n",
              "\n",
              "  .colab-df-quickchart {\n",
              "    background-color: var(--bg-color);\n",
              "    border: none;\n",
              "    border-radius: 50%;\n",
              "    cursor: pointer;\n",
              "    display: none;\n",
              "    fill: var(--fill-color);\n",
              "    height: 32px;\n",
              "    padding: 0;\n",
              "    width: 32px;\n",
              "  }\n",
              "\n",
              "  .colab-df-quickchart:hover {\n",
              "    background-color: var(--hover-bg-color);\n",
              "    box-shadow: 0 1px 2px rgba(60, 64, 67, 0.3), 0 1px 3px 1px rgba(60, 64, 67, 0.15);\n",
              "    fill: var(--button-hover-fill-color);\n",
              "  }\n",
              "\n",
              "  .colab-df-quickchart-complete:disabled,\n",
              "  .colab-df-quickchart-complete:disabled:hover {\n",
              "    background-color: var(--disabled-bg-color);\n",
              "    fill: var(--disabled-fill-color);\n",
              "    box-shadow: none;\n",
              "  }\n",
              "\n",
              "  .colab-df-spinner {\n",
              "    border: 2px solid var(--fill-color);\n",
              "    border-color: transparent;\n",
              "    border-bottom-color: var(--fill-color);\n",
              "    animation:\n",
              "      spin 1s steps(1) infinite;\n",
              "  }\n",
              "\n",
              "  @keyframes spin {\n",
              "    0% {\n",
              "      border-color: transparent;\n",
              "      border-bottom-color: var(--fill-color);\n",
              "      border-left-color: var(--fill-color);\n",
              "    }\n",
              "    20% {\n",
              "      border-color: transparent;\n",
              "      border-left-color: var(--fill-color);\n",
              "      border-top-color: var(--fill-color);\n",
              "    }\n",
              "    30% {\n",
              "      border-color: transparent;\n",
              "      border-left-color: var(--fill-color);\n",
              "      border-top-color: var(--fill-color);\n",
              "      border-right-color: var(--fill-color);\n",
              "    }\n",
              "    40% {\n",
              "      border-color: transparent;\n",
              "      border-right-color: var(--fill-color);\n",
              "      border-top-color: var(--fill-color);\n",
              "    }\n",
              "    60% {\n",
              "      border-color: transparent;\n",
              "      border-right-color: var(--fill-color);\n",
              "    }\n",
              "    80% {\n",
              "      border-color: transparent;\n",
              "      border-right-color: var(--fill-color);\n",
              "      border-bottom-color: var(--fill-color);\n",
              "    }\n",
              "    90% {\n",
              "      border-color: transparent;\n",
              "      border-bottom-color: var(--fill-color);\n",
              "    }\n",
              "  }\n",
              "</style>\n",
              "\n",
              "  <script>\n",
              "    async function quickchart(key) {\n",
              "      const quickchartButtonEl =\n",
              "        document.querySelector('#' + key + ' button');\n",
              "      quickchartButtonEl.disabled = true;  // To prevent multiple clicks.\n",
              "      quickchartButtonEl.classList.add('colab-df-spinner');\n",
              "      try {\n",
              "        const charts = await google.colab.kernel.invokeFunction(\n",
              "            'suggestCharts', [key], {});\n",
              "      } catch (error) {\n",
              "        console.error('Error during call to suggestCharts:', error);\n",
              "      }\n",
              "      quickchartButtonEl.classList.remove('colab-df-spinner');\n",
              "      quickchartButtonEl.classList.add('colab-df-quickchart-complete');\n",
              "    }\n",
              "    (() => {\n",
              "      let quickchartButtonEl =\n",
              "        document.querySelector('#df-4ee46386-ea14-4297-9088-edf1b3645bc3 button');\n",
              "      quickchartButtonEl.style.display =\n",
              "        google.colab.kernel.accessAllowed ? 'block' : 'none';\n",
              "    })();\n",
              "  </script>\n",
              "</div>\n",
              "\n",
              "    </div>\n",
              "  </div>\n"
            ],
            "application/vnd.google.colaboratory.intrinsic+json": {
              "type": "dataframe",
              "summary": "{\n  \"name\": \"df\",\n  \"rows\": 3,\n  \"fields\": [\n    {\n      \"column\": \"Department\",\n      \"properties\": {\n        \"dtype\": \"string\",\n        \"num_unique_values\": 3,\n        \"samples\": [\n          \"Finance\",\n          \"HR\",\n          \"IT\"\n        ],\n        \"semantic_type\": \"\",\n        \"description\": \"\"\n      }\n    },\n    {\n      \"column\": \"Salary\",\n      \"properties\": {\n        \"dtype\": \"number\",\n        \"std\": 12124.355652982142,\n        \"min\": 51000.0,\n        \"max\": 75000.0,\n        \"num_unique_values\": 3,\n        \"samples\": [\n          60000.0,\n          51000.0,\n          75000.0\n        ],\n        \"semantic_type\": \"\",\n        \"description\": \"\"\n      }\n    },\n    {\n      \"column\": \"age\",\n      \"properties\": {\n        \"dtype\": \"number\",\n        \"std\": 6.946221994724902,\n        \"min\": 27.5,\n        \"max\": 40.0,\n        \"num_unique_values\": 3,\n        \"samples\": [\n          40.0,\n          28.5,\n          27.5\n        ],\n        \"semantic_type\": \"\",\n        \"description\": \"\"\n      }\n    }\n  ]\n}"
            }
          },
          "metadata": {},
          "execution_count": 27
        }
      ]
    },
    {
      "cell_type": "markdown",
      "source": [
        "18. NumPy - Create a 5x5 Matrix\n",
        "Write a program to create a 5x5 NumPy matrix where:\n",
        "The diagonal elements are 1\n",
        "All other elements are 0\n",
        "Example:\n",
        "Output:\n",
        "[[1 0 0 0 0]\n",
        " [0 1 0 0 0]\n",
        " [0 0 1 0 0]\n",
        " [0 0 0 1 0]\n",
        " [0 0 0 0 1]]\n"
      ],
      "metadata": {
        "id": "ORL7CjB3yYb6"
      },
      "id": "ORL7CjB3yYb6"
    },
    {
      "cell_type": "code",
      "source": [
        "import numpy as np\n",
        "print(np.identity(5,dtype=int))\n",
        "print(np.ones((5,5),dtype=int))\n",
        "print(np.zeros((5,5),dtype=int))\n",
        "print(np.arange(25).reshape(5,5))\n",
        "print(np.empty((5,5),dtype=int))\n"
      ],
      "metadata": {
        "colab": {
          "base_uri": "https://localhost:8080/"
        },
        "id": "sR5Y8q3dydQ5",
        "outputId": "8a3984f4-82b5-42ea-e5ac-baf41813a94b"
      },
      "id": "sR5Y8q3dydQ5",
      "execution_count": null,
      "outputs": [
        {
          "output_type": "stream",
          "name": "stdout",
          "text": [
            "[[1 0 0 0 0]\n",
            " [0 1 0 0 0]\n",
            " [0 0 1 0 0]\n",
            " [0 0 0 1 0]\n",
            " [0 0 0 0 1]]\n",
            "[[1 1 1 1 1]\n",
            " [1 1 1 1 1]\n",
            " [1 1 1 1 1]\n",
            " [1 1 1 1 1]\n",
            " [1 1 1 1 1]]\n",
            "[[0 0 0 0 0]\n",
            " [0 0 0 0 0]\n",
            " [0 0 0 0 0]\n",
            " [0 0 0 0 0]\n",
            " [0 0 0 0 0]]\n",
            "[[ 0  1  2  3  4]\n",
            " [ 5  6  7  8  9]\n",
            " [10 11 12 13 14]\n",
            " [15 16 17 18 19]\n",
            " [20 21 22 23 24]]\n",
            "[[ 0  1  2  3  4]\n",
            " [ 5  6  7  8  9]\n",
            " [10 11 12 13 14]\n",
            " [15 16 17 18 19]\n",
            " [20 21 22 23 24]]\n"
          ]
        }
      ]
    },
    {
      "cell_type": "markdown",
      "source": [
        "19. NumPy - Element-wise Operations\n",
        "Given two NumPy arrays:\n",
        "import numpy as np\n",
        "a = np.array([1, 2, 3, 4])\n",
        "b = np.array([10, 20, 30, 40])\n",
        "Perform element-wise:\n",
        "Addition\n",
        "Multiplication\n",
        "Power (a^b)\n"
      ],
      "metadata": {
        "id": "h-sk5tai1rrr"
      },
      "id": "h-sk5tai1rrr"
    },
    {
      "cell_type": "code",
      "source": [
        "a = np.array([1, 2, 3, 4])\n",
        "b = np.array([10, 20, 30, 40])\n",
        "print(a+b)\n",
        "print(a-b)\n",
        "print(a*b)\n",
        "print(a**b)\n",
        "print(a^b)"
      ],
      "metadata": {
        "colab": {
          "base_uri": "https://localhost:8080/"
        },
        "id": "hazO-FAc1snN",
        "outputId": "5fe29349-daba-4048-f911-d747044495f8"
      },
      "id": "hazO-FAc1snN",
      "execution_count": null,
      "outputs": [
        {
          "output_type": "stream",
          "name": "stdout",
          "text": [
            "[11 22 33 44]\n",
            "[ -9 -18 -27 -36]\n",
            "[ 10  40  90 160]\n",
            "[              1         1048576 205891132094649               0]\n",
            "[11 22 29 44]\n"
          ]
        }
      ]
    },
    {
      "cell_type": "code",
      "source": [
        "4**40"
      ],
      "metadata": {
        "colab": {
          "base_uri": "https://localhost:8080/"
        },
        "id": "GOi4h1d52_2o",
        "outputId": "371b94d6-5e9b-4b69-dd3b-789f86c771b6"
      },
      "id": "GOi4h1d52_2o",
      "execution_count": null,
      "outputs": [
        {
          "output_type": "execute_result",
          "data": {
            "text/plain": [
              "1208925819614629174706176"
            ]
          },
          "metadata": {},
          "execution_count": 58
        }
      ]
    },
    {
      "cell_type": "markdown",
      "source": [
        "20. NumPy - Find Index of Maximum Value\n",
        "Given:\n",
        "arr = np.array([10, 25, 39, 50, 19])\n",
        "Write a one-liner to find the index of the maximum value."
      ],
      "metadata": {
        "id": "bS2qU8Ks4cDO"
      },
      "id": "bS2qU8Ks4cDO"
    },
    {
      "cell_type": "code",
      "source": [
        "import numpy as np\n",
        "arr=np.array([10, 25, 39, 50, 19])\n",
        "arr.argmax()\n",
        "#np.argmax(arr)"
      ],
      "metadata": {
        "colab": {
          "base_uri": "https://localhost:8080/"
        },
        "id": "0e0lAzfK4c_V",
        "outputId": "1ab504f2-dcb9-4007-b470-c915883e85ad"
      },
      "id": "0e0lAzfK4c_V",
      "execution_count": null,
      "outputs": [
        {
          "output_type": "execute_result",
          "data": {
            "text/plain": [
              "np.int64(3)"
            ]
          },
          "metadata": {},
          "execution_count": 4
        }
      ]
    }
  ],
  "metadata": {
    "kernelspec": {
      "display_name": "Python 3 (ipykernel)",
      "language": "python",
      "name": "python3"
    },
    "language_info": {
      "codemirror_mode": {
        "name": "ipython",
        "version": 3
      },
      "file_extension": ".py",
      "mimetype": "text/x-python",
      "name": "python",
      "nbconvert_exporter": "python",
      "pygments_lexer": "ipython3",
      "version": "3.11.7"
    },
    "colab": {
      "provenance": [],
      "include_colab_link": true
    }
  },
  "nbformat": 4,
  "nbformat_minor": 5
}