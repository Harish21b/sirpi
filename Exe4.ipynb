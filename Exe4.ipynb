{
  "cells": [
    {
      "cell_type": "markdown",
      "metadata": {
        "id": "view-in-github",
        "colab_type": "text"
      },
      "source": [
        "<a href=\"https://colab.research.google.com/github/Harish21b/sirpi/blob/main/Exe4.ipynb\" target=\"_parent\"><img src=\"https://colab.research.google.com/assets/colab-badge.svg\" alt=\"Open In Colab\"/></a>"
      ]
    },
    {
      "cell_type": "markdown",
      "id": "b2cdb357-5f10-40db-8359-58aac98a8b10",
      "metadata": {
        "id": "b2cdb357-5f10-40db-8359-58aac98a8b10"
      },
      "source": []
    },
    {
      "cell_type": "markdown",
      "source": [
        "Case Study: Library Management System Scenario: You are designing a Library Management System that allows users to borrow and return books. The system should support different types of users (Students, Professors) and different types of books (Physical books, E-books). The system should also ensure data security by preventing unauthorized access to certain attributes. Requirements:\n",
        "\n",
        "Implement a Book class with details like title, author, isbn, and availability_status.\n",
        "Implement a User class that holds name and user_type (either \"Student\" or \"Professor\").\n",
        "Use Inheritance to create specialized user types (Student, Professor) with different borrowing limits.\n",
        "Use Encapsulation to ensure that certain data (like the number of copies available) is not modified directly.\n",
        "Use Polymorphism to allow different types of books (e.g., PhysicalBook and EBook) to implement a common method for checking availability.\n",
        "Use Abstraction to define a common structure for Book that must be implemented by all book types."
      ],
      "metadata": {
        "id": "H8n-KXojZuGW"
      },
      "id": "H8n-KXojZuGW"
    },
    {
      "cell_type": "code",
      "execution_count": 5,
      "id": "9c3677ca-a1ee-4e37-b55d-f69b9f8a1f49",
      "metadata": {
        "id": "9c3677ca-a1ee-4e37-b55d-f69b9f8a1f49",
        "colab": {
          "base_uri": "https://localhost:8080/"
        },
        "outputId": "a401eb7e-3599-4eec-a1b0-5f7f26fc3d7f"
      },
      "outputs": [
        {
          "output_type": "stream",
          "name": "stdout",
          "text": [
            "infinity war superman 1444\n",
            "Famous Five Enid Blyton 0041 11\n",
            "Is the physical book available: True\n",
            "Sir has borrowed the book\n",
            "Physical book available after return: True\n",
            "remo cars 1000 40\n",
            "Is the Online ebook available: True\n",
            "Harish has borrowed the Ebook\n",
            "Ebook available after return: True\n"
          ]
        }
      ],
      "source": [
        "\n",
        "class Book:\n",
        "    def __init__(self, title, author, isbn):\n",
        "        self.title = title\n",
        "        self.author = author\n",
        "        self.isbn = isbn\n",
        "\n",
        "    def check_availability(self):\n",
        "        pass\n",
        "\n",
        "class PhysicalBook(Book):\n",
        "    def __init__(self, title, author, isbn, copies_available):\n",
        "        super().__init__(title, author, isbn)\n",
        "        self.__copies_available = copies_available\n",
        "\n",
        "    def get_copies_available(self):\n",
        "        return self.__copies_available\n",
        "\n",
        "    def check_availability(self):\n",
        "        return self.__copies_available > 0\n",
        "\n",
        "    def borrow_book(self):\n",
        "        if self.check_availability():\n",
        "            self.__copies_available -= 1\n",
        "\n",
        "    def return_book(self):\n",
        "        self.__copies_available += 1\n",
        "\n",
        "class Ebooks(Book):\n",
        "    def __init__(self, title, author, isbn, online_users):\n",
        "        super().__init__(title, author, isbn)\n",
        "        self.__online_users = online_users\n",
        "        self.__current_users = 0\n",
        "\n",
        "    def get_online_users(self):\n",
        "        return self.__online_users\n",
        "\n",
        "    def check_availability(self):\n",
        "        return self.__current_users < self.__online_users\n",
        "\n",
        "    def borrow_book(self):\n",
        "        if self.check_availability():\n",
        "            self.__current_users += 1\n",
        "\n",
        "    def return_book(self):\n",
        "        if self.__current_users > 0:\n",
        "            self.__current_users -= 1\n",
        "\n",
        "class User:\n",
        "    def __init__(self, name, user_type):\n",
        "        self.name = name\n",
        "        self.user_type = user_type\n",
        "\n",
        "class Student(User):\n",
        "    def __init__(self, name):\n",
        "        super().__init__(name, \"Student\")\n",
        "    def borrowing_limits(self):\n",
        "         return 2\n",
        "\n",
        "class Professor(User):\n",
        "    def __init__(self, name):\n",
        "        super().__init__(name, \"Professor\")\n",
        "\n",
        "    def borrowing_limits(self):\n",
        "        return 5\n",
        "\n",
        "if __name__ == \"__main__\":\n",
        "    student = Student(\"Harish\")\n",
        "    professor = Professor('Sir')\n",
        "\n",
        "    b1 = Book(\"infinity war\", \"superman\", \"1444\")\n",
        "    print(b1.title, b1.author, b1.isbn)\n",
        "\n",
        "    book = PhysicalBook(\"Famous Five\", \"Enid Blyton\", \"0041\", 11)\n",
        "    kindle = Ebooks(\"remo\", \"cars\", \"1000\", 40)\n",
        "\n",
        "    print(book.title, book.author, book.isbn, book.get_copies_available())\n",
        "    print(f\"Is the physical book available: {book.check_availability()}\")\n",
        "\n",
        "    book.borrow_book()\n",
        "    print(f\"{professor.name} has borrowed the book\")\n",
        "\n",
        "    book.return_book()\n",
        "    print(f\"Physical book available after return: {book.check_availability()}\")\n",
        "\n",
        "    print(kindle.title, kindle.author, kindle.isbn, kindle.get_online_users())\n",
        "    print(f\"Is the Online ebook available: {kindle.check_availability()}\")\n",
        "\n",
        "    kindle.borrow_book()\n",
        "    print(f\"{student.name} has borrowed the Ebook\")\n",
        "\n",
        "    kindle.return_book()\n",
        "    print(f\"Ebook available after return: {kindle.check_availability()}\")"
      ]
    },
    {
      "cell_type": "markdown",
      "source": [
        "1.Encapsulation • Why is __copies defined as a private attribute in PhysicalBook? • How can we modify __copies safely without directly accessing it?"
      ],
      "metadata": {
        "id": "4JclY5FKbSqF"
      },
      "id": "4JclY5FKbSqF"
    },
    {
      "cell_type": "code",
      "source": [
        "#1.PhysicalBook\n",
        " #   * Private attributes must be declared using double underscore which is not accessible outside the class.\n",
        "#2.How can we modify __copies safely without directly accessing it?\n",
        "  #  * we can access __copies only in the parent class and not outside the class. if\n",
        "   #   we want to acces indirectly we need getter and setter method to access it."
      ],
      "metadata": {
        "id": "7LWIQRNZbWUH"
      },
      "id": "7LWIQRNZbWUH",
      "execution_count": null,
      "outputs": []
    },
    {
      "cell_type": "markdown",
      "source": [
        "2.Inheritance • What is the purpose of Student and Professor classes inheriting from User? • If a new type of user (e.g., Librarian) needs to be added, how can it be done?"
      ],
      "metadata": {
        "id": "QhzY1EbabaER"
      },
      "id": "QhzY1EbabaER"
    },
    {
      "cell_type": "markdown",
      "source": [],
      "metadata": {
        "id": "Esztd0tubSjl"
      },
      "id": "Esztd0tubSjl"
    },
    {
      "cell_type": "code",
      "source": [
        "class Libraran:\n",
        "  def _init_(self,name):\n",
        "    super()._init_(name,\"Librarian\")\n",
        "\n",
        "  def borrowing_limit(self):\n",
        "    return float('inf')\n",
        "print()\n"
      ],
      "metadata": {
        "colab": {
          "base_uri": "https://localhost:8080/"
        },
        "id": "OoiyRqFybeFc",
        "outputId": "8a68f8bc-5ed1-4fcf-836f-27337959c8ca"
      },
      "id": "OoiyRqFybeFc",
      "execution_count": 6,
      "outputs": [
        {
          "output_type": "stream",
          "name": "stdout",
          "text": [
            "\n"
          ]
        }
      ]
    },
    {
      "cell_type": "markdown",
      "source": [
        "3.Polymorphism • Both PhysicalBook and EBook implement check_availability(). How does this demonstrate polymorphism? • Modify the program so that EBook also has a borrow method, but does not reduce copies when borrowed."
      ],
      "metadata": {
        "id": "CC481zY-bkm4"
      },
      "id": "CC481zY-bkm4"
    },
    {
      "cell_type": "code",
      "source": [
        "class Ebooks(Book):\n",
        "    def _init_(self,title,author,isbn,online_users):\n",
        "      super()._init_(title,author,isbn)\n",
        "      self.__online_users = online_users\n",
        "      self.__current_users = 0\n",
        "\n",
        "    def get_online_users(self):\n",
        "      return self.__online_users\n",
        "\n",
        "    def check_availability(self):\n",
        "      return self._current_users < self._online_users\n",
        "\n",
        "    def borrow_book(self):\n",
        "      if self.check_availability():\n",
        "          self.__current_users += 1\n",
        "\n",
        "    def return_book(self):\n",
        "        if self.__current_users > 0:\n",
        "            self.__current_users -= 1"
      ],
      "metadata": {
        "id": "HwwaNJDxbm8c"
      },
      "id": "HwwaNJDxbm8c",
      "execution_count": 7,
      "outputs": []
    },
    {
      "cell_type": "markdown",
      "source": [
        "4.Abstraction Why do we declare Book as an abstract class instead of using it directly? What will happen if we try to create an object of Book?"
      ],
      "metadata": {
        "id": "E8zeEUyhbvg5"
      },
      "id": "E8zeEUyhbvg5"
    },
    {
      "cell_type": "code",
      "source": [
        " #      . If we attempt to create an object of the Book class directly, Python will raise a TypeError\n",
        "#       . generic_book = Book(\"Title\", \"Author\", \"ISBN\")\n",
        "#       . This will result in the error:\n",
        "#       . TypeError: Can't instantiate abstract class Book with abstract methods check_availability, get_borrow_durat\n",
        "#       . Abstract classes are not meant to be instantiated; they serve as a foundation for creating concrete subclasses that provide the required implementations.\n",
        ""
      ],
      "metadata": {
        "id": "bw6Lv0imbynR"
      },
      "id": "bw6Lv0imbynR",
      "execution_count": null,
      "outputs": []
    },
    {
      "cell_type": "code",
      "source": [],
      "metadata": {
        "id": "PV-ovpo8bye_"
      },
      "id": "PV-ovpo8bye_",
      "execution_count": null,
      "outputs": []
    },
    {
      "cell_type": "markdown",
      "source": [
        "5.Real-World Application How would you extend this program to track borrowed books per user? If books have different borrowing durations (e.g., E-books for 14 days, Physical books for 30 days), how would you implement that?"
      ],
      "metadata": {
        "id": "r7hFEWrZcZCa"
      },
      "id": "r7hFEWrZcZCa"
    },
    {
      "cell_type": "code",
      "source": [
        "#ans:\n",
        "#we can create an abstract method named borrowing_duration in book and implement the limits for Ebooks class and physical books class.\n",
        ""
      ],
      "metadata": {
        "id": "JQFULBTOcbHA"
      },
      "id": "JQFULBTOcbHA",
      "execution_count": null,
      "outputs": []
    },
    {
      "cell_type": "markdown",
      "source": [],
      "metadata": {
        "id": "XHTOCOa2cY7u"
      },
      "id": "XHTOCOa2cY7u"
    }
  ],
  "metadata": {
    "kernelspec": {
      "display_name": "Python 3 (ipykernel)",
      "language": "python",
      "name": "python3"
    },
    "language_info": {
      "codemirror_mode": {
        "name": "ipython",
        "version": 3
      },
      "file_extension": ".py",
      "mimetype": "text/x-python",
      "name": "python",
      "nbconvert_exporter": "python",
      "pygments_lexer": "ipython3",
      "version": "3.11.7"
    },
    "colab": {
      "provenance": [],
      "include_colab_link": true
    }
  },
  "nbformat": 4,
  "nbformat_minor": 5
}