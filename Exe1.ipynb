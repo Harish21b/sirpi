{
  "nbformat": 4,
  "nbformat_minor": 0,
  "metadata": {
    "colab": {
      "provenance": [],
      "authorship_tag": "ABX9TyNyTPzVTX6rmL7w/z0eNtAr",
      "include_colab_link": true
    },
    "kernelspec": {
      "name": "python3",
      "display_name": "Python 3"
    },
    "language_info": {
      "name": "python"
    }
  },
  "cells": [
    {
      "cell_type": "markdown",
      "metadata": {
        "id": "view-in-github",
        "colab_type": "text"
      },
      "source": [
        "<a href=\"https://colab.research.google.com/github/Harish21b/sirpi/blob/main/Exe1.ipynb\" target=\"_parent\"><img src=\"https://colab.research.google.com/assets/colab-badge.svg\" alt=\"Open In Colab\"/></a>"
      ]
    },
    {
      "cell_type": "markdown",
      "source": [
        "1. Types of Variables\n",
        "Question:\n",
        "Write a Python program that defines three types of variables:\n",
        "A string variable to store your name.\n",
        "An integer variable to store your age.\n",
        "A float variable to store your height in meters.\n",
        "Print these variables along with their types using the type() function.\n"
      ],
      "metadata": {
        "id": "gLOAqbh-TS5i"
      }
    },
    {
      "cell_type": "code",
      "execution_count": null,
      "metadata": {
        "colab": {
          "base_uri": "https://localhost:8080/"
        },
        "id": "UWUevEBmRrmy",
        "outputId": "ad5b80cc-cecd-4eb5-c99c-81a89a4b12ea"
      },
      "outputs": [
        {
          "output_type": "stream",
          "name": "stdout",
          "text": [
            "Harish <class 'str'>\n",
            "18 <class 'int'>\n",
            "164.5 <class 'float'>\n"
          ]
        }
      ],
      "source": [
        "name=\"Harish\"\n",
        "age=18\n",
        "height=164.5\n",
        "print(name,type(name))\n",
        "print(age,type(age))\n",
        "print(height,type(height))\n"
      ]
    },
    {
      "cell_type": "markdown",
      "source": [
        "2. Lists\n",
        "Question:\n",
        "Create a list of five fruits ([\"apple\", \"banana\", \"cherry\", \"date\", \"elderberry\"]):\n",
        "a) Print the first and last fruit from the list.\n",
        "b) Add a new fruit to the end of the list.\n",
        "c) Remove the second fruit from the list.\n",
        "d) Sort the list in alphabetical order and print it."
      ],
      "metadata": {
        "id": "vLA6RloTUCNM"
      }
    },
    {
      "cell_type": "code",
      "source": [
        "fruits=['apple','banana','cherry','elderberry','date']\n",
        "fruits.append('jackfruit')\n",
        "fruits.remove('banana')#if we know the value we can remove the value by using remove().\n",
        "fruits.pop(0)#if we know the index then we can use pop()\n",
        "fruits.sort()\n",
        "print(fruits)\n"
      ],
      "metadata": {
        "colab": {
          "base_uri": "https://localhost:8080/"
        },
        "id": "xM3hpqQIUEVq",
        "outputId": "6f96940f-cf7a-44c3-a3af-93a1a95e3603"
      },
      "execution_count": null,
      "outputs": [
        {
          "output_type": "stream",
          "name": "stdout",
          "text": [
            "['cherry', 'date', 'elderberry', 'jackfruit']\n"
          ]
        }
      ]
    },
    {
      "cell_type": "markdown",
      "source": [
        "3. Tuples\n",
        "Question:\n",
        "Create a tuple to store the names of three programming languages (\"Python\", \"Java\", \"C++\"):\n",
        "a) Access the second language in the tuple.\n",
        "b) Try to replace the second language with \"JavaScript\". What happens?\n",
        "c) Convert the tuple to a list, make the modification, and convert it back to a tuple."
      ],
      "metadata": {
        "id": "DRdlGblIWhaj"
      }
    },
    {
      "cell_type": "code",
      "source": [
        "programming_languages=(\"Python\", \"Java\", \"C++\")\n",
        "print(programming_languages[1])\n",
        "#programming_languages[1]='java script'.  'tuple' object does not support item assignment\n",
        "programming_languages_l=list(programming_languages)\n",
        "programming_languages_l[1]='java script'\n",
        "programming_languages=tuple(programming_languages_l)\n",
        "print(programming_languages)\n",
        "\n"
      ],
      "metadata": {
        "colab": {
          "base_uri": "https://localhost:8080/"
        },
        "id": "T4bLv37nWinY",
        "outputId": "a3198c06-ad01-47a6-a26f-33967b2dbaa8"
      },
      "execution_count": null,
      "outputs": [
        {
          "output_type": "stream",
          "name": "stdout",
          "text": [
            "Java\n",
            "('Python', 'java script', 'C++')\n"
          ]
        }
      ]
    },
    {
      "cell_type": "markdown",
      "source": [
        "4. Data Dictionary - Basics\n",
        "Question:\n",
        "Create a dictionary with the following student details:\n",
        "name: \"John\"\n",
        "age: 18\n",
        "grade: \"A\"\n",
        "a) Access and print the value of grade.\n",
        "b) Add a new key-value pair for hobby with the value \"reading\".\n",
        "c) Delete the age key from the dictionary."
      ],
      "metadata": {
        "id": "Xhk9hO45YWs5"
      }
    },
    {
      "cell_type": "code",
      "source": [
        "student_details={'name':\"John\",'age':18,'grade':'A'}\n",
        "print(student_details['grade'])\n",
        "student_details['hobby']='reading'\n",
        "student_details.pop('age')\n",
        "print(student_details)\n"
      ],
      "metadata": {
        "colab": {
          "base_uri": "https://localhost:8080/"
        },
        "id": "lTlEEUTWYkBx",
        "outputId": "5d58bede-367c-4aa1-c634-3b21dff105cd"
      },
      "execution_count": null,
      "outputs": [
        {
          "output_type": "stream",
          "name": "stdout",
          "text": [
            "A\n",
            "{'name': 'John', 'grade': 'A', 'hobby': 'reading'}\n"
          ]
        }
      ]
    },
    {
      "cell_type": "markdown",
      "source": [
        "5. Data Dictionary - Operations\n",
        "Question:\n",
        "You are given the following dictionary:\n",
        "marks = {\"Math\": 85, \"Science\": 90, \"English\": 78}\n",
        "a) Find the average marks across all subjects.\n",
        "b) Update the marks for Math to 88.\n",
        "c) Check if the key \"History\" exists in the dictionary."
      ],
      "metadata": {
        "id": "b3euL2mIb1Sx"
      }
    },
    {
      "cell_type": "code",
      "source": [
        "marks={\"Math\":85, \"Science\":90, \"English\":78}\n",
        "print(marks.keys())\n",
        "values=(marks.values())\n",
        "print(sum(values)/len(values))\n",
        "marks['math']=88\n",
        "print(marks)\n",
        "print('History' in marks)\n"
      ],
      "metadata": {
        "colab": {
          "base_uri": "https://localhost:8080/"
        },
        "id": "qgl1hmI2b6W1",
        "outputId": "ba241aa0-1772-4f64-840d-0856b43e2112"
      },
      "execution_count": null,
      "outputs": [
        {
          "output_type": "stream",
          "name": "stdout",
          "text": [
            "dict_keys(['Math', 'Science', 'English'])\n",
            "84.33333333333333\n",
            "{'Math': 85, 'Science': 90, 'English': 78, 'math': 88}\n",
            "False\n"
          ]
        }
      ]
    },
    {
      "cell_type": "markdown",
      "source": [
        "6. Functions - Basics\n",
        "Question:\n",
        "Write a Python function named square that takes an integer as input and returns its square.\n",
        "Call the function with the value 7 and print the result.\n"
      ],
      "metadata": {
        "id": "CSV6VjBBeDn5"
      }
    },
    {
      "cell_type": "code",
      "source": [
        "def square(x):\n",
        "  return x**2\n",
        "\n",
        "a=int(input(\"enter a value to be squared :\"))\n",
        "print(square(a))\n"
      ],
      "metadata": {
        "colab": {
          "base_uri": "https://localhost:8080/"
        },
        "id": "dnGjSGXHeGco",
        "outputId": "20a1b490-8d88-419c-e8fb-975b34712d9d"
      },
      "execution_count": null,
      "outputs": [
        {
          "output_type": "stream",
          "name": "stdout",
          "text": [
            "enter a value to be squared :7\n",
            "49\n"
          ]
        }
      ]
    },
    {
      "cell_type": "markdown",
      "source": [
        "7. Functions - Default Arguments\n",
        "Question:\n",
        "Write a Python function named greet that takes two parameters:\n",
        "name (a string)\n",
        "message (a string with a default value of \"Welcome!\")\n",
        "Call the function twice:\n",
        "Once by providing both name and message.\n",
        "Once by providing only name.\n"
      ],
      "metadata": {
        "id": "kwL48O1Sew7N"
      }
    },
    {
      "cell_type": "code",
      "source": [
        "def greet(name,message=\"Welcome\"):\n",
        "  print(name,message)\n",
        "\n",
        "greet(\"harish\",\"dude\")\n",
        "greet(\"harish\")"
      ],
      "metadata": {
        "colab": {
          "base_uri": "https://localhost:8080/"
        },
        "id": "uYxc36_0e1dV",
        "outputId": "acc9e3e4-95d0-487b-ed95-66fdd6bc9322"
      },
      "execution_count": null,
      "outputs": [
        {
          "output_type": "stream",
          "name": "stdout",
          "text": [
            "harish dude\n",
            "harish Welcome\n"
          ]
        }
      ]
    },
    {
      "cell_type": "markdown",
      "source": [
        "8. Functions - Positional and Keyword Arguments\n",
        "Question:\n",
        "Write a Python function named student_info that accepts the following parameters:\n",
        "name (string)\n",
        "age (integer)\n",
        "grade (string, default value is \"A\")\n",
        "Call the function with:\n",
        "Positional arguments only.\n",
        "Keyword arguments only.\n",
        "Print the result in each case.\n"
      ],
      "metadata": {
        "id": "FaXXYyBFgdQF"
      }
    },
    {
      "cell_type": "code",
      "source": [
        "def student_info(name,age,grade=\"A\"):\n",
        "  print(f'hi this is {name} my age is {age} and my grade is {grade}')\n",
        "\n",
        "student_info(\"harish\",22)\n",
        "student_info(grade=\"S\",age=18,name=\"hari\")\n"
      ],
      "metadata": {
        "colab": {
          "base_uri": "https://localhost:8080/"
        },
        "id": "78QX-AmEgd5w",
        "outputId": "721ac207-b2f8-4d04-d6c6-39ce53a303bb"
      },
      "execution_count": null,
      "outputs": [
        {
          "output_type": "stream",
          "name": "stdout",
          "text": [
            "hi this is harish my age is 22 and my grade is A\n",
            "hi this is hari my age is 18 and my grade is S\n"
          ]
        }
      ]
    },
    {
      "cell_type": "markdown",
      "source": [
        "9. Lists and Functions\n",
        "Question:\n",
        "Write a Python program with the following requirements:\n",
        "a) Create a list of numbers: [10, 20, 30, 40, 50].\n",
        "b) Define a function named double_values that takes a list as input and returns a new list with each value doubled.\n",
        "c) Pass the list to the function and print the returned list."
      ],
      "metadata": {
        "id": "YJaU-n4oh0Sp"
      }
    },
    {
      "cell_type": "code",
      "source": [
        "numbers=[10, 20, 30, 40, 50]\n",
        "\n",
        "def double_values(a):\n",
        "  b=[]\n",
        "  for i in a:\n",
        "    c=i*2\n",
        "    b.append(c)\n",
        "  return b\n",
        "\n",
        "\n",
        "x=double_values(numbers)\n",
        "print(x)"
      ],
      "metadata": {
        "colab": {
          "base_uri": "https://localhost:8080/"
        },
        "id": "A4mOBq7Vh7GE",
        "outputId": "c8998373-262e-498c-eb74-8dd36285ba22"
      },
      "execution_count": null,
      "outputs": [
        {
          "output_type": "stream",
          "name": "stdout",
          "text": [
            "[20, 40, 60, 80, 100]\n"
          ]
        }
      ]
    },
    {
      "cell_type": "markdown",
      "source": [
        "10. Combining Data Dictionary and Functions\n",
        "Question:\n",
        "Create a dictionary named students to store the names and grades of three students:\n",
        "students = {\"Alice\": 85, \"Bob\": 78, \"Eve\": 92}\n",
        "a) Write a function named add_student that accepts a dictionary, a student name, and a grade, then adds the student to the dictionary.\n",
        "b) Write another function named average_grade that calculates the average grade of all students in the dictionary.\n",
        "Call the functions to:\n",
        "Add a new student (\"David\": 88).\n",
        "Calculate and print the average grade.\n"
      ],
      "metadata": {
        "id": "z5wP6gOxkLs9"
      }
    },
    {
      "cell_type": "code",
      "source": [
        "def add_student(x,y):\n",
        "  students[x]=y\n",
        "  print(students)\n",
        "\n",
        "def average_grade():\n",
        "  a=(students.values())\n",
        "  print(sum(a)/len(students))\n",
        "\n",
        "students={\"Alice\": 85, \"Bob\": 78, \"Eve\": 92}\n",
        "add_student(\"david\",88)\n",
        "average_grade()\n"
      ],
      "metadata": {
        "colab": {
          "base_uri": "https://localhost:8080/"
        },
        "id": "HC1It2lUkRzu",
        "outputId": "7298f8c9-b161-4957-e963-e86dac870c3a"
      },
      "execution_count": null,
      "outputs": [
        {
          "output_type": "stream",
          "name": "stdout",
          "text": [
            "{'Alice': 85, 'Bob': 78, 'Eve': 92, 'david': 88}\n",
            "85.75\n"
          ]
        }
      ]
    }
  ]
}